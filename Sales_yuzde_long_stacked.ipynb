{
 "cells": [
  {
   "cell_type": "code",
   "execution_count": 1,
   "id": "5f3c23e9",
   "metadata": {},
   "outputs": [],
   "source": [
    "import pandas as pd\n",
    "import numpy as np\n",
    "import seaborn as sns\n",
    "import matplotlib.pyplot as plt\n",
    "from matplotlib import colors\n",
    "#pip install chart_studio\n",
    "import chart_studio\n",
    "import plotly.express as px"
   ]
  },
  {
   "cell_type": "code",
   "execution_count": 100,
   "id": "c0303876",
   "metadata": {},
   "outputs": [],
   "source": [
    "username = 'yourusername'\n",
    "api_key = 'yourapikey' #profile > settings > regenerate key"
   ]
  },
  {
   "cell_type": "code",
   "execution_count": 15,
   "id": "135658bf",
   "metadata": {},
   "outputs": [],
   "source": [
    "df=pd.read_csv(\"C:/Users/Kubra/Desktop/Sales/vgsales.csv\")"
   ]
  },
  {
   "cell_type": "code",
   "execution_count": 17,
   "id": "5249a105",
   "metadata": {},
   "outputs": [
    {
     "data": {
      "text/html": [
       "<div>\n",
       "<style scoped>\n",
       "    .dataframe tbody tr th:only-of-type {\n",
       "        vertical-align: middle;\n",
       "    }\n",
       "\n",
       "    .dataframe tbody tr th {\n",
       "        vertical-align: top;\n",
       "    }\n",
       "\n",
       "    .dataframe thead th {\n",
       "        text-align: right;\n",
       "    }\n",
       "</style>\n",
       "<table border=\"1\" class=\"dataframe\">\n",
       "  <thead>\n",
       "    <tr style=\"text-align: right;\">\n",
       "      <th></th>\n",
       "      <th>Rank</th>\n",
       "      <th>Name</th>\n",
       "      <th>Platform</th>\n",
       "      <th>Year</th>\n",
       "      <th>Genre</th>\n",
       "      <th>Publisher</th>\n",
       "      <th>NA_Sales</th>\n",
       "      <th>EU_Sales</th>\n",
       "      <th>JP_Sales</th>\n",
       "      <th>Other_Sales</th>\n",
       "      <th>Global_Sales</th>\n",
       "    </tr>\n",
       "  </thead>\n",
       "  <tbody>\n",
       "    <tr>\n",
       "      <th>0</th>\n",
       "      <td>1</td>\n",
       "      <td>Wii Sports</td>\n",
       "      <td>Wii</td>\n",
       "      <td>2006.0</td>\n",
       "      <td>Sports</td>\n",
       "      <td>Nintendo</td>\n",
       "      <td>41.49</td>\n",
       "      <td>29.02</td>\n",
       "      <td>3.77</td>\n",
       "      <td>8.46</td>\n",
       "      <td>82.74</td>\n",
       "    </tr>\n",
       "    <tr>\n",
       "      <th>1</th>\n",
       "      <td>2</td>\n",
       "      <td>Super Mario Bros.</td>\n",
       "      <td>NES</td>\n",
       "      <td>1985.0</td>\n",
       "      <td>Platform</td>\n",
       "      <td>Nintendo</td>\n",
       "      <td>29.08</td>\n",
       "      <td>3.58</td>\n",
       "      <td>6.81</td>\n",
       "      <td>0.77</td>\n",
       "      <td>40.24</td>\n",
       "    </tr>\n",
       "    <tr>\n",
       "      <th>2</th>\n",
       "      <td>3</td>\n",
       "      <td>Mario Kart Wii</td>\n",
       "      <td>Wii</td>\n",
       "      <td>2008.0</td>\n",
       "      <td>Racing</td>\n",
       "      <td>Nintendo</td>\n",
       "      <td>15.85</td>\n",
       "      <td>12.88</td>\n",
       "      <td>3.79</td>\n",
       "      <td>3.31</td>\n",
       "      <td>35.82</td>\n",
       "    </tr>\n",
       "  </tbody>\n",
       "</table>\n",
       "</div>"
      ],
      "text/plain": [
       "   Rank               Name Platform    Year     Genre Publisher  NA_Sales  \\\n",
       "0     1         Wii Sports      Wii  2006.0    Sports  Nintendo     41.49   \n",
       "1     2  Super Mario Bros.      NES  1985.0  Platform  Nintendo     29.08   \n",
       "2     3     Mario Kart Wii      Wii  2008.0    Racing  Nintendo     15.85   \n",
       "\n",
       "   EU_Sales  JP_Sales  Other_Sales  Global_Sales  \n",
       "0     29.02      3.77         8.46         82.74  \n",
       "1      3.58      6.81         0.77         40.24  \n",
       "2     12.88      3.79         3.31         35.82  "
      ]
     },
     "execution_count": 17,
     "metadata": {},
     "output_type": "execute_result"
    }
   ],
   "source": [
    "df.head(3)"
   ]
  },
  {
   "cell_type": "code",
   "execution_count": 38,
   "id": "1eaa11d2",
   "metadata": {},
   "outputs": [],
   "source": [
    "new_df= df.sort_values(by=['Global_Sales'], ascending=False)"
   ]
  },
  {
   "cell_type": "code",
   "execution_count": 39,
   "id": "d53bb194",
   "metadata": {},
   "outputs": [],
   "source": [
    "#sıraladıktan sonra en düşükleri attım ilk 200 aldım\n",
    "new_df = new_df.iloc[:200, :]\n",
    "\n"
   ]
  },
  {
   "cell_type": "code",
   "execution_count": 41,
   "id": "6262d5df",
   "metadata": {},
   "outputs": [
    {
     "data": {
      "text/html": [
       "<div>\n",
       "<style scoped>\n",
       "    .dataframe tbody tr th:only-of-type {\n",
       "        vertical-align: middle;\n",
       "    }\n",
       "\n",
       "    .dataframe tbody tr th {\n",
       "        vertical-align: top;\n",
       "    }\n",
       "\n",
       "    .dataframe thead th {\n",
       "        text-align: right;\n",
       "    }\n",
       "</style>\n",
       "<table border=\"1\" class=\"dataframe\">\n",
       "  <thead>\n",
       "    <tr style=\"text-align: right;\">\n",
       "      <th></th>\n",
       "      <th>Rank</th>\n",
       "      <th>Name</th>\n",
       "      <th>Platform</th>\n",
       "      <th>Year</th>\n",
       "      <th>Genre</th>\n",
       "      <th>Publisher</th>\n",
       "      <th>NA_Sales</th>\n",
       "      <th>EU_Sales</th>\n",
       "      <th>JP_Sales</th>\n",
       "      <th>Other_Sales</th>\n",
       "      <th>Global_Sales</th>\n",
       "    </tr>\n",
       "  </thead>\n",
       "  <tbody>\n",
       "    <tr>\n",
       "      <th>0</th>\n",
       "      <td>1</td>\n",
       "      <td>Wii Sports</td>\n",
       "      <td>Wii</td>\n",
       "      <td>2006.0</td>\n",
       "      <td>Sports</td>\n",
       "      <td>Nintendo</td>\n",
       "      <td>41.49</td>\n",
       "      <td>29.02</td>\n",
       "      <td>3.77</td>\n",
       "      <td>8.46</td>\n",
       "      <td>82.74</td>\n",
       "    </tr>\n",
       "    <tr>\n",
       "      <th>1</th>\n",
       "      <td>2</td>\n",
       "      <td>Super Mario Bros.</td>\n",
       "      <td>NES</td>\n",
       "      <td>1985.0</td>\n",
       "      <td>Platform</td>\n",
       "      <td>Nintendo</td>\n",
       "      <td>29.08</td>\n",
       "      <td>3.58</td>\n",
       "      <td>6.81</td>\n",
       "      <td>0.77</td>\n",
       "      <td>40.24</td>\n",
       "    </tr>\n",
       "    <tr>\n",
       "      <th>2</th>\n",
       "      <td>3</td>\n",
       "      <td>Mario Kart Wii</td>\n",
       "      <td>Wii</td>\n",
       "      <td>2008.0</td>\n",
       "      <td>Racing</td>\n",
       "      <td>Nintendo</td>\n",
       "      <td>15.85</td>\n",
       "      <td>12.88</td>\n",
       "      <td>3.79</td>\n",
       "      <td>3.31</td>\n",
       "      <td>35.82</td>\n",
       "    </tr>\n",
       "    <tr>\n",
       "      <th>3</th>\n",
       "      <td>4</td>\n",
       "      <td>Wii Sports Resort</td>\n",
       "      <td>Wii</td>\n",
       "      <td>2009.0</td>\n",
       "      <td>Sports</td>\n",
       "      <td>Nintendo</td>\n",
       "      <td>15.75</td>\n",
       "      <td>11.01</td>\n",
       "      <td>3.28</td>\n",
       "      <td>2.96</td>\n",
       "      <td>33.00</td>\n",
       "    </tr>\n",
       "    <tr>\n",
       "      <th>4</th>\n",
       "      <td>5</td>\n",
       "      <td>Pokemon Red/Pokemon Blue</td>\n",
       "      <td>GB</td>\n",
       "      <td>1996.0</td>\n",
       "      <td>Role-Playing</td>\n",
       "      <td>Nintendo</td>\n",
       "      <td>11.27</td>\n",
       "      <td>8.89</td>\n",
       "      <td>10.22</td>\n",
       "      <td>1.00</td>\n",
       "      <td>31.37</td>\n",
       "    </tr>\n",
       "    <tr>\n",
       "      <th>...</th>\n",
       "      <td>...</td>\n",
       "      <td>...</td>\n",
       "      <td>...</td>\n",
       "      <td>...</td>\n",
       "      <td>...</td>\n",
       "      <td>...</td>\n",
       "      <td>...</td>\n",
       "      <td>...</td>\n",
       "      <td>...</td>\n",
       "      <td>...</td>\n",
       "      <td>...</td>\n",
       "    </tr>\n",
       "    <tr>\n",
       "      <th>195</th>\n",
       "      <td>196</td>\n",
       "      <td>Guitar Hero II</td>\n",
       "      <td>PS2</td>\n",
       "      <td>2006.0</td>\n",
       "      <td>Misc</td>\n",
       "      <td>RedOctane</td>\n",
       "      <td>3.81</td>\n",
       "      <td>0.63</td>\n",
       "      <td>0.00</td>\n",
       "      <td>0.68</td>\n",
       "      <td>5.12</td>\n",
       "    </tr>\n",
       "    <tr>\n",
       "      <th>196</th>\n",
       "      <td>197</td>\n",
       "      <td>Resident Evil 5</td>\n",
       "      <td>PS3</td>\n",
       "      <td>2009.0</td>\n",
       "      <td>Action</td>\n",
       "      <td>Capcom</td>\n",
       "      <td>1.96</td>\n",
       "      <td>1.43</td>\n",
       "      <td>1.08</td>\n",
       "      <td>0.65</td>\n",
       "      <td>5.11</td>\n",
       "    </tr>\n",
       "    <tr>\n",
       "      <th>197</th>\n",
       "      <td>198</td>\n",
       "      <td>Grand Theft Auto V</td>\n",
       "      <td>XOne</td>\n",
       "      <td>2014.0</td>\n",
       "      <td>Action</td>\n",
       "      <td>Take-Two Interactive</td>\n",
       "      <td>2.66</td>\n",
       "      <td>2.01</td>\n",
       "      <td>0.00</td>\n",
       "      <td>0.41</td>\n",
       "      <td>5.08</td>\n",
       "    </tr>\n",
       "    <tr>\n",
       "      <th>198</th>\n",
       "      <td>199</td>\n",
       "      <td>Grand Theft Auto: Vice City Stories</td>\n",
       "      <td>PSP</td>\n",
       "      <td>2006.0</td>\n",
       "      <td>Action</td>\n",
       "      <td>Take-Two Interactive</td>\n",
       "      <td>1.70</td>\n",
       "      <td>2.02</td>\n",
       "      <td>0.16</td>\n",
       "      <td>1.21</td>\n",
       "      <td>5.08</td>\n",
       "    </tr>\n",
       "    <tr>\n",
       "      <th>199</th>\n",
       "      <td>200</td>\n",
       "      <td>FIFA Soccer 11</td>\n",
       "      <td>PS3</td>\n",
       "      <td>2010.0</td>\n",
       "      <td>Sports</td>\n",
       "      <td>Electronic Arts</td>\n",
       "      <td>0.60</td>\n",
       "      <td>3.29</td>\n",
       "      <td>0.06</td>\n",
       "      <td>1.13</td>\n",
       "      <td>5.08</td>\n",
       "    </tr>\n",
       "  </tbody>\n",
       "</table>\n",
       "<p>200 rows × 11 columns</p>\n",
       "</div>"
      ],
      "text/plain": [
       "     Rank                                 Name Platform    Year         Genre  \\\n",
       "0       1                           Wii Sports      Wii  2006.0        Sports   \n",
       "1       2                    Super Mario Bros.      NES  1985.0      Platform   \n",
       "2       3                       Mario Kart Wii      Wii  2008.0        Racing   \n",
       "3       4                    Wii Sports Resort      Wii  2009.0        Sports   \n",
       "4       5             Pokemon Red/Pokemon Blue       GB  1996.0  Role-Playing   \n",
       "..    ...                                  ...      ...     ...           ...   \n",
       "195   196                       Guitar Hero II      PS2  2006.0          Misc   \n",
       "196   197                      Resident Evil 5      PS3  2009.0        Action   \n",
       "197   198                   Grand Theft Auto V     XOne  2014.0        Action   \n",
       "198   199  Grand Theft Auto: Vice City Stories      PSP  2006.0        Action   \n",
       "199   200                       FIFA Soccer 11      PS3  2010.0        Sports   \n",
       "\n",
       "                Publisher  NA_Sales  EU_Sales  JP_Sales  Other_Sales  \\\n",
       "0                Nintendo     41.49     29.02      3.77         8.46   \n",
       "1                Nintendo     29.08      3.58      6.81         0.77   \n",
       "2                Nintendo     15.85     12.88      3.79         3.31   \n",
       "3                Nintendo     15.75     11.01      3.28         2.96   \n",
       "4                Nintendo     11.27      8.89     10.22         1.00   \n",
       "..                    ...       ...       ...       ...          ...   \n",
       "195             RedOctane      3.81      0.63      0.00         0.68   \n",
       "196                Capcom      1.96      1.43      1.08         0.65   \n",
       "197  Take-Two Interactive      2.66      2.01      0.00         0.41   \n",
       "198  Take-Two Interactive      1.70      2.02      0.16         1.21   \n",
       "199       Electronic Arts      0.60      3.29      0.06         1.13   \n",
       "\n",
       "     Global_Sales  \n",
       "0           82.74  \n",
       "1           40.24  \n",
       "2           35.82  \n",
       "3           33.00  \n",
       "4           31.37  \n",
       "..            ...  \n",
       "195          5.12  \n",
       "196          5.11  \n",
       "197          5.08  \n",
       "198          5.08  \n",
       "199          5.08  \n",
       "\n",
       "[200 rows x 11 columns]"
      ]
     },
     "execution_count": 41,
     "metadata": {},
     "output_type": "execute_result"
    }
   ],
   "source": [
    "new_df"
   ]
  },
  {
   "cell_type": "code",
   "execution_count": 42,
   "id": "4b860f9f",
   "metadata": {},
   "outputs": [],
   "source": [
    "#aynı publisherların ortalamasını aldım tek olsun diye\n",
    "# Calculate the average sales for each unique publisher in each region\n",
    "new_df2 = new_df.groupby(['Publisher']).agg({'NA_Sales': 'mean', 'EU_Sales': 'mean', 'JP_Sales': 'mean','Other_Sales': 'mean','Global_Sales': 'mean'}).reset_index()\n",
    "\n"
   ]
  },
  {
   "cell_type": "code",
   "execution_count": 65,
   "id": "dd793824",
   "metadata": {},
   "outputs": [
    {
     "data": {
      "text/html": [
       "<div>\n",
       "<style scoped>\n",
       "    .dataframe tbody tr th:only-of-type {\n",
       "        vertical-align: middle;\n",
       "    }\n",
       "\n",
       "    .dataframe tbody tr th {\n",
       "        vertical-align: top;\n",
       "    }\n",
       "\n",
       "    .dataframe thead th {\n",
       "        text-align: right;\n",
       "    }\n",
       "</style>\n",
       "<table border=\"1\" class=\"dataframe\">\n",
       "  <thead>\n",
       "    <tr style=\"text-align: right;\">\n",
       "      <th></th>\n",
       "      <th>Publisher</th>\n",
       "      <th>NA_Sales</th>\n",
       "      <th>EU_Sales</th>\n",
       "      <th>JP_Sales</th>\n",
       "      <th>Other_Sales</th>\n",
       "      <th>Global_Sales</th>\n",
       "    </tr>\n",
       "  </thead>\n",
       "  <tbody>\n",
       "    <tr>\n",
       "      <th>11</th>\n",
       "      <td>Nintendo</td>\n",
       "      <td>6.455000</td>\n",
       "      <td>3.557500</td>\n",
       "      <td>2.714625</td>\n",
       "      <td>0.819625</td>\n",
       "      <td>13.545625</td>\n",
       "    </tr>\n",
       "    <tr>\n",
       "      <th>18</th>\n",
       "      <td>Take-Two Interactive</td>\n",
       "      <td>5.426154</td>\n",
       "      <td>3.776154</td>\n",
       "      <td>0.293077</td>\n",
       "      <td>2.216154</td>\n",
       "      <td>11.710000</td>\n",
       "    </tr>\n",
       "    <tr>\n",
       "      <th>1</th>\n",
       "      <td>Activision</td>\n",
       "      <td>5.028095</td>\n",
       "      <td>3.510476</td>\n",
       "      <td>0.185238</td>\n",
       "      <td>1.163810</td>\n",
       "      <td>9.885238</td>\n",
       "    </tr>\n",
       "    <tr>\n",
       "      <th>10</th>\n",
       "      <td>Microsoft Game Studios</td>\n",
       "      <td>5.585333</td>\n",
       "      <td>2.070667</td>\n",
       "      <td>0.072000</td>\n",
       "      <td>0.616667</td>\n",
       "      <td>8.346000</td>\n",
       "    </tr>\n",
       "    <tr>\n",
       "      <th>14</th>\n",
       "      <td>Sony Computer Entertainment</td>\n",
       "      <td>3.371176</td>\n",
       "      <td>2.529412</td>\n",
       "      <td>1.324118</td>\n",
       "      <td>1.088235</td>\n",
       "      <td>8.314706</td>\n",
       "    </tr>\n",
       "    <tr>\n",
       "      <th>2</th>\n",
       "      <td>Atari</td>\n",
       "      <td>7.280000</td>\n",
       "      <td>0.450000</td>\n",
       "      <td>0.000000</td>\n",
       "      <td>0.080000</td>\n",
       "      <td>7.810000</td>\n",
       "    </tr>\n",
       "    <tr>\n",
       "      <th>3</th>\n",
       "      <td>Bethesda Softworks</td>\n",
       "      <td>3.350000</td>\n",
       "      <td>2.906667</td>\n",
       "      <td>0.196667</td>\n",
       "      <td>1.000000</td>\n",
       "      <td>7.453333</td>\n",
       "    </tr>\n",
       "    <tr>\n",
       "      <th>19</th>\n",
       "      <td>Ubisoft</td>\n",
       "      <td>3.803333</td>\n",
       "      <td>2.301111</td>\n",
       "      <td>0.062222</td>\n",
       "      <td>0.738889</td>\n",
       "      <td>6.905556</td>\n",
       "    </tr>\n",
       "    <tr>\n",
       "      <th>6</th>\n",
       "      <td>Electronic Arts</td>\n",
       "      <td>2.032353</td>\n",
       "      <td>3.397059</td>\n",
       "      <td>0.218824</td>\n",
       "      <td>1.065294</td>\n",
       "      <td>6.711765</td>\n",
       "    </tr>\n",
       "    <tr>\n",
       "      <th>17</th>\n",
       "      <td>SquareSoft</td>\n",
       "      <td>1.950000</td>\n",
       "      <td>1.245000</td>\n",
       "      <td>3.205000</td>\n",
       "      <td>0.185000</td>\n",
       "      <td>6.580000</td>\n",
       "    </tr>\n",
       "    <tr>\n",
       "      <th>13</th>\n",
       "      <td>Sega</td>\n",
       "      <td>2.896667</td>\n",
       "      <td>2.526667</td>\n",
       "      <td>0.420000</td>\n",
       "      <td>0.560000</td>\n",
       "      <td>6.410000</td>\n",
       "    </tr>\n",
       "    <tr>\n",
       "      <th>7</th>\n",
       "      <td>GT Interactive</td>\n",
       "      <td>3.110000</td>\n",
       "      <td>2.800000</td>\n",
       "      <td>0.020000</td>\n",
       "      <td>0.330000</td>\n",
       "      <td>6.270000</td>\n",
       "    </tr>\n",
       "    <tr>\n",
       "      <th>0</th>\n",
       "      <td>505 Games</td>\n",
       "      <td>3.315000</td>\n",
       "      <td>2.290000</td>\n",
       "      <td>0.035000</td>\n",
       "      <td>0.625000</td>\n",
       "      <td>6.265000</td>\n",
       "    </tr>\n",
       "    <tr>\n",
       "      <th>8</th>\n",
       "      <td>Konami Digital Entertainment</td>\n",
       "      <td>2.753333</td>\n",
       "      <td>1.860000</td>\n",
       "      <td>0.826667</td>\n",
       "      <td>0.596667</td>\n",
       "      <td>6.036667</td>\n",
       "    </tr>\n",
       "    <tr>\n",
       "      <th>15</th>\n",
       "      <td>Sony Computer Entertainment Europe</td>\n",
       "      <td>2.410000</td>\n",
       "      <td>2.280000</td>\n",
       "      <td>0.280000</td>\n",
       "      <td>1.010000</td>\n",
       "      <td>5.990000</td>\n",
       "    </tr>\n",
       "    <tr>\n",
       "      <th>9</th>\n",
       "      <td>LucasArts</td>\n",
       "      <td>3.660000</td>\n",
       "      <td>1.630000</td>\n",
       "      <td>0.000000</td>\n",
       "      <td>0.530000</td>\n",
       "      <td>5.830000</td>\n",
       "    </tr>\n",
       "    <tr>\n",
       "      <th>21</th>\n",
       "      <td>Virgin Interactive</td>\n",
       "      <td>1.880000</td>\n",
       "      <td>1.470000</td>\n",
       "      <td>2.020000</td>\n",
       "      <td>0.450000</td>\n",
       "      <td>5.820000</td>\n",
       "    </tr>\n",
       "    <tr>\n",
       "      <th>4</th>\n",
       "      <td>Capcom</td>\n",
       "      <td>1.633333</td>\n",
       "      <td>0.943333</td>\n",
       "      <td>2.693333</td>\n",
       "      <td>0.370000</td>\n",
       "      <td>5.636667</td>\n",
       "    </tr>\n",
       "    <tr>\n",
       "      <th>22</th>\n",
       "      <td>Warner Bros. Interactive Entertainment</td>\n",
       "      <td>2.700000</td>\n",
       "      <td>1.910000</td>\n",
       "      <td>0.110000</td>\n",
       "      <td>0.800000</td>\n",
       "      <td>5.530000</td>\n",
       "    </tr>\n",
       "    <tr>\n",
       "      <th>16</th>\n",
       "      <td>Square Enix</td>\n",
       "      <td>1.423333</td>\n",
       "      <td>0.663333</td>\n",
       "      <td>2.603333</td>\n",
       "      <td>0.820000</td>\n",
       "      <td>5.506667</td>\n",
       "    </tr>\n",
       "    <tr>\n",
       "      <th>20</th>\n",
       "      <td>Universal Interactive</td>\n",
       "      <td>2.070000</td>\n",
       "      <td>2.290000</td>\n",
       "      <td>0.240000</td>\n",
       "      <td>0.820000</td>\n",
       "      <td>5.420000</td>\n",
       "    </tr>\n",
       "    <tr>\n",
       "      <th>5</th>\n",
       "      <td>Eidos Interactive</td>\n",
       "      <td>2.300000</td>\n",
       "      <td>2.460000</td>\n",
       "      <td>0.200000</td>\n",
       "      <td>0.280000</td>\n",
       "      <td>5.240000</td>\n",
       "    </tr>\n",
       "    <tr>\n",
       "      <th>12</th>\n",
       "      <td>RedOctane</td>\n",
       "      <td>3.810000</td>\n",
       "      <td>0.630000</td>\n",
       "      <td>0.000000</td>\n",
       "      <td>0.680000</td>\n",
       "      <td>5.120000</td>\n",
       "    </tr>\n",
       "  </tbody>\n",
       "</table>\n",
       "</div>"
      ],
      "text/plain": [
       "                                 Publisher  NA_Sales  EU_Sales  JP_Sales  \\\n",
       "11                                Nintendo  6.455000  3.557500  2.714625   \n",
       "18                    Take-Two Interactive  5.426154  3.776154  0.293077   \n",
       "1                               Activision  5.028095  3.510476  0.185238   \n",
       "10                  Microsoft Game Studios  5.585333  2.070667  0.072000   \n",
       "14             Sony Computer Entertainment  3.371176  2.529412  1.324118   \n",
       "2                                    Atari  7.280000  0.450000  0.000000   \n",
       "3                       Bethesda Softworks  3.350000  2.906667  0.196667   \n",
       "19                                 Ubisoft  3.803333  2.301111  0.062222   \n",
       "6                          Electronic Arts  2.032353  3.397059  0.218824   \n",
       "17                              SquareSoft  1.950000  1.245000  3.205000   \n",
       "13                                    Sega  2.896667  2.526667  0.420000   \n",
       "7                           GT Interactive  3.110000  2.800000  0.020000   \n",
       "0                                505 Games  3.315000  2.290000  0.035000   \n",
       "8             Konami Digital Entertainment  2.753333  1.860000  0.826667   \n",
       "15      Sony Computer Entertainment Europe  2.410000  2.280000  0.280000   \n",
       "9                                LucasArts  3.660000  1.630000  0.000000   \n",
       "21                      Virgin Interactive  1.880000  1.470000  2.020000   \n",
       "4                                   Capcom  1.633333  0.943333  2.693333   \n",
       "22  Warner Bros. Interactive Entertainment  2.700000  1.910000  0.110000   \n",
       "16                             Square Enix  1.423333  0.663333  2.603333   \n",
       "20                   Universal Interactive  2.070000  2.290000  0.240000   \n",
       "5                        Eidos Interactive  2.300000  2.460000  0.200000   \n",
       "12                               RedOctane  3.810000  0.630000  0.000000   \n",
       "\n",
       "    Other_Sales  Global_Sales  \n",
       "11     0.819625     13.545625  \n",
       "18     2.216154     11.710000  \n",
       "1      1.163810      9.885238  \n",
       "10     0.616667      8.346000  \n",
       "14     1.088235      8.314706  \n",
       "2      0.080000      7.810000  \n",
       "3      1.000000      7.453333  \n",
       "19     0.738889      6.905556  \n",
       "6      1.065294      6.711765  \n",
       "17     0.185000      6.580000  \n",
       "13     0.560000      6.410000  \n",
       "7      0.330000      6.270000  \n",
       "0      0.625000      6.265000  \n",
       "8      0.596667      6.036667  \n",
       "15     1.010000      5.990000  \n",
       "9      0.530000      5.830000  \n",
       "21     0.450000      5.820000  \n",
       "4      0.370000      5.636667  \n",
       "22     0.800000      5.530000  \n",
       "16     0.820000      5.506667  \n",
       "20     0.820000      5.420000  \n",
       "5      0.280000      5.240000  \n",
       "12     0.680000      5.120000  "
      ]
     },
     "execution_count": 65,
     "metadata": {},
     "output_type": "execute_result"
    }
   ],
   "source": [
    "new_df2"
   ]
  },
  {
   "cell_type": "code",
   "execution_count": 44,
   "id": "d59245ce",
   "metadata": {},
   "outputs": [],
   "source": [
    "new_df2 = new_df2.sort_values(by=['Global_Sales'], ascending=False)"
   ]
  },
  {
   "cell_type": "code",
   "execution_count": 61,
   "id": "cfbe7c64",
   "metadata": {},
   "outputs": [
    {
     "data": {
      "text/html": [
       "<div>\n",
       "<style scoped>\n",
       "    .dataframe tbody tr th:only-of-type {\n",
       "        vertical-align: middle;\n",
       "    }\n",
       "\n",
       "    .dataframe tbody tr th {\n",
       "        vertical-align: top;\n",
       "    }\n",
       "\n",
       "    .dataframe thead th {\n",
       "        text-align: right;\n",
       "    }\n",
       "</style>\n",
       "<table border=\"1\" class=\"dataframe\">\n",
       "  <thead>\n",
       "    <tr style=\"text-align: right;\">\n",
       "      <th></th>\n",
       "      <th>Publisher</th>\n",
       "      <th>NA_Sales</th>\n",
       "      <th>EU_Sales</th>\n",
       "      <th>JP_Sales</th>\n",
       "      <th>Other_Sales</th>\n",
       "      <th>Global_Sales</th>\n",
       "    </tr>\n",
       "  </thead>\n",
       "  <tbody>\n",
       "    <tr>\n",
       "      <th>11</th>\n",
       "      <td>Nintendo</td>\n",
       "      <td>6.455000</td>\n",
       "      <td>3.557500</td>\n",
       "      <td>2.714625</td>\n",
       "      <td>0.819625</td>\n",
       "      <td>13.545625</td>\n",
       "    </tr>\n",
       "    <tr>\n",
       "      <th>18</th>\n",
       "      <td>Take-Two Interactive</td>\n",
       "      <td>5.426154</td>\n",
       "      <td>3.776154</td>\n",
       "      <td>0.293077</td>\n",
       "      <td>2.216154</td>\n",
       "      <td>11.710000</td>\n",
       "    </tr>\n",
       "    <tr>\n",
       "      <th>1</th>\n",
       "      <td>Activision</td>\n",
       "      <td>5.028095</td>\n",
       "      <td>3.510476</td>\n",
       "      <td>0.185238</td>\n",
       "      <td>1.163810</td>\n",
       "      <td>9.885238</td>\n",
       "    </tr>\n",
       "  </tbody>\n",
       "</table>\n",
       "</div>"
      ],
      "text/plain": [
       "               Publisher  NA_Sales  EU_Sales  JP_Sales  Other_Sales  \\\n",
       "11              Nintendo  6.455000  3.557500  2.714625     0.819625   \n",
       "18  Take-Two Interactive  5.426154  3.776154  0.293077     2.216154   \n",
       "1             Activision  5.028095  3.510476  0.185238     1.163810   \n",
       "\n",
       "    Global_Sales  \n",
       "11     13.545625  \n",
       "18     11.710000  \n",
       "1       9.885238  "
      ]
     },
     "execution_count": 61,
     "metadata": {},
     "output_type": "execute_result"
    }
   ],
   "source": [
    "new_df2.head(3)"
   ]
  },
  {
   "cell_type": "code",
   "execution_count": 62,
   "id": "526fbdff",
   "metadata": {},
   "outputs": [],
   "source": [
    "#transpose yaptım, ilk kolon hariç\n",
    "new_column_names = new_df2.iloc[:, 0]\n",
    "transposed_df = new_df2.iloc[:, 1:].transpose()\n",
    "\n",
    "# yeni kolon isimleri\n",
    "transposed_df.columns = new_column_names\n",
    "transposed_df = transposed_df.reset_index()\n",
    "\n",
    "# ilk kolona isim verdim\n",
    "transposed_df.rename(columns={'index': 'Column Name'}, inplace=True)"
   ]
  },
  {
   "cell_type": "code",
   "execution_count": 66,
   "id": "b585b6bb",
   "metadata": {},
   "outputs": [],
   "source": [
    "transposed_df = transposed_df.set_index(\"Column Name\")\n"
   ]
  },
  {
   "cell_type": "code",
   "execution_count": 67,
   "id": "db172d02",
   "metadata": {},
   "outputs": [
    {
     "data": {
      "text/html": [
       "<div>\n",
       "<style scoped>\n",
       "    .dataframe tbody tr th:only-of-type {\n",
       "        vertical-align: middle;\n",
       "    }\n",
       "\n",
       "    .dataframe tbody tr th {\n",
       "        vertical-align: top;\n",
       "    }\n",
       "\n",
       "    .dataframe thead th {\n",
       "        text-align: right;\n",
       "    }\n",
       "</style>\n",
       "<table border=\"1\" class=\"dataframe\">\n",
       "  <thead>\n",
       "    <tr style=\"text-align: right;\">\n",
       "      <th>Publisher</th>\n",
       "      <th>Nintendo</th>\n",
       "      <th>Take-Two Interactive</th>\n",
       "      <th>Activision</th>\n",
       "      <th>Microsoft Game Studios</th>\n",
       "      <th>Sony Computer Entertainment</th>\n",
       "      <th>Atari</th>\n",
       "      <th>Bethesda Softworks</th>\n",
       "      <th>Ubisoft</th>\n",
       "      <th>Electronic Arts</th>\n",
       "      <th>SquareSoft</th>\n",
       "      <th>...</th>\n",
       "      <th>Konami Digital Entertainment</th>\n",
       "      <th>Sony Computer Entertainment Europe</th>\n",
       "      <th>LucasArts</th>\n",
       "      <th>Virgin Interactive</th>\n",
       "      <th>Capcom</th>\n",
       "      <th>Warner Bros. Interactive Entertainment</th>\n",
       "      <th>Square Enix</th>\n",
       "      <th>Universal Interactive</th>\n",
       "      <th>Eidos Interactive</th>\n",
       "      <th>RedOctane</th>\n",
       "    </tr>\n",
       "    <tr>\n",
       "      <th>Column Name</th>\n",
       "      <th></th>\n",
       "      <th></th>\n",
       "      <th></th>\n",
       "      <th></th>\n",
       "      <th></th>\n",
       "      <th></th>\n",
       "      <th></th>\n",
       "      <th></th>\n",
       "      <th></th>\n",
       "      <th></th>\n",
       "      <th></th>\n",
       "      <th></th>\n",
       "      <th></th>\n",
       "      <th></th>\n",
       "      <th></th>\n",
       "      <th></th>\n",
       "      <th></th>\n",
       "      <th></th>\n",
       "      <th></th>\n",
       "      <th></th>\n",
       "      <th></th>\n",
       "    </tr>\n",
       "  </thead>\n",
       "  <tbody>\n",
       "    <tr>\n",
       "      <th>NA_Sales</th>\n",
       "      <td>6.455000</td>\n",
       "      <td>5.426154</td>\n",
       "      <td>5.028095</td>\n",
       "      <td>5.585333</td>\n",
       "      <td>3.371176</td>\n",
       "      <td>7.28</td>\n",
       "      <td>3.350000</td>\n",
       "      <td>3.803333</td>\n",
       "      <td>2.032353</td>\n",
       "      <td>1.950</td>\n",
       "      <td>...</td>\n",
       "      <td>2.753333</td>\n",
       "      <td>2.41</td>\n",
       "      <td>3.66</td>\n",
       "      <td>1.88</td>\n",
       "      <td>1.633333</td>\n",
       "      <td>2.70</td>\n",
       "      <td>1.423333</td>\n",
       "      <td>2.07</td>\n",
       "      <td>2.30</td>\n",
       "      <td>3.81</td>\n",
       "    </tr>\n",
       "    <tr>\n",
       "      <th>EU_Sales</th>\n",
       "      <td>3.557500</td>\n",
       "      <td>3.776154</td>\n",
       "      <td>3.510476</td>\n",
       "      <td>2.070667</td>\n",
       "      <td>2.529412</td>\n",
       "      <td>0.45</td>\n",
       "      <td>2.906667</td>\n",
       "      <td>2.301111</td>\n",
       "      <td>3.397059</td>\n",
       "      <td>1.245</td>\n",
       "      <td>...</td>\n",
       "      <td>1.860000</td>\n",
       "      <td>2.28</td>\n",
       "      <td>1.63</td>\n",
       "      <td>1.47</td>\n",
       "      <td>0.943333</td>\n",
       "      <td>1.91</td>\n",
       "      <td>0.663333</td>\n",
       "      <td>2.29</td>\n",
       "      <td>2.46</td>\n",
       "      <td>0.63</td>\n",
       "    </tr>\n",
       "    <tr>\n",
       "      <th>JP_Sales</th>\n",
       "      <td>2.714625</td>\n",
       "      <td>0.293077</td>\n",
       "      <td>0.185238</td>\n",
       "      <td>0.072000</td>\n",
       "      <td>1.324118</td>\n",
       "      <td>0.00</td>\n",
       "      <td>0.196667</td>\n",
       "      <td>0.062222</td>\n",
       "      <td>0.218824</td>\n",
       "      <td>3.205</td>\n",
       "      <td>...</td>\n",
       "      <td>0.826667</td>\n",
       "      <td>0.28</td>\n",
       "      <td>0.00</td>\n",
       "      <td>2.02</td>\n",
       "      <td>2.693333</td>\n",
       "      <td>0.11</td>\n",
       "      <td>2.603333</td>\n",
       "      <td>0.24</td>\n",
       "      <td>0.20</td>\n",
       "      <td>0.00</td>\n",
       "    </tr>\n",
       "    <tr>\n",
       "      <th>Other_Sales</th>\n",
       "      <td>0.819625</td>\n",
       "      <td>2.216154</td>\n",
       "      <td>1.163810</td>\n",
       "      <td>0.616667</td>\n",
       "      <td>1.088235</td>\n",
       "      <td>0.08</td>\n",
       "      <td>1.000000</td>\n",
       "      <td>0.738889</td>\n",
       "      <td>1.065294</td>\n",
       "      <td>0.185</td>\n",
       "      <td>...</td>\n",
       "      <td>0.596667</td>\n",
       "      <td>1.01</td>\n",
       "      <td>0.53</td>\n",
       "      <td>0.45</td>\n",
       "      <td>0.370000</td>\n",
       "      <td>0.80</td>\n",
       "      <td>0.820000</td>\n",
       "      <td>0.82</td>\n",
       "      <td>0.28</td>\n",
       "      <td>0.68</td>\n",
       "    </tr>\n",
       "    <tr>\n",
       "      <th>Global_Sales</th>\n",
       "      <td>13.545625</td>\n",
       "      <td>11.710000</td>\n",
       "      <td>9.885238</td>\n",
       "      <td>8.346000</td>\n",
       "      <td>8.314706</td>\n",
       "      <td>7.81</td>\n",
       "      <td>7.453333</td>\n",
       "      <td>6.905556</td>\n",
       "      <td>6.711765</td>\n",
       "      <td>6.580</td>\n",
       "      <td>...</td>\n",
       "      <td>6.036667</td>\n",
       "      <td>5.99</td>\n",
       "      <td>5.83</td>\n",
       "      <td>5.82</td>\n",
       "      <td>5.636667</td>\n",
       "      <td>5.53</td>\n",
       "      <td>5.506667</td>\n",
       "      <td>5.42</td>\n",
       "      <td>5.24</td>\n",
       "      <td>5.12</td>\n",
       "    </tr>\n",
       "  </tbody>\n",
       "</table>\n",
       "<p>5 rows × 23 columns</p>\n",
       "</div>"
      ],
      "text/plain": [
       "Publisher      Nintendo  Take-Two Interactive  Activision  \\\n",
       "Column Name                                                 \n",
       "NA_Sales       6.455000              5.426154    5.028095   \n",
       "EU_Sales       3.557500              3.776154    3.510476   \n",
       "JP_Sales       2.714625              0.293077    0.185238   \n",
       "Other_Sales    0.819625              2.216154    1.163810   \n",
       "Global_Sales  13.545625             11.710000    9.885238   \n",
       "\n",
       "Publisher     Microsoft Game Studios  Sony Computer Entertainment  Atari  \\\n",
       "Column Name                                                                \n",
       "NA_Sales                    5.585333                     3.371176   7.28   \n",
       "EU_Sales                    2.070667                     2.529412   0.45   \n",
       "JP_Sales                    0.072000                     1.324118   0.00   \n",
       "Other_Sales                 0.616667                     1.088235   0.08   \n",
       "Global_Sales                8.346000                     8.314706   7.81   \n",
       "\n",
       "Publisher     Bethesda Softworks   Ubisoft  Electronic Arts  SquareSoft  ...  \\\n",
       "Column Name                                                              ...   \n",
       "NA_Sales                3.350000  3.803333         2.032353       1.950  ...   \n",
       "EU_Sales                2.906667  2.301111         3.397059       1.245  ...   \n",
       "JP_Sales                0.196667  0.062222         0.218824       3.205  ...   \n",
       "Other_Sales             1.000000  0.738889         1.065294       0.185  ...   \n",
       "Global_Sales            7.453333  6.905556         6.711765       6.580  ...   \n",
       "\n",
       "Publisher     Konami Digital Entertainment  \\\n",
       "Column Name                                  \n",
       "NA_Sales                          2.753333   \n",
       "EU_Sales                          1.860000   \n",
       "JP_Sales                          0.826667   \n",
       "Other_Sales                       0.596667   \n",
       "Global_Sales                      6.036667   \n",
       "\n",
       "Publisher     Sony Computer Entertainment Europe  LucasArts  \\\n",
       "Column Name                                                   \n",
       "NA_Sales                                    2.41       3.66   \n",
       "EU_Sales                                    2.28       1.63   \n",
       "JP_Sales                                    0.28       0.00   \n",
       "Other_Sales                                 1.01       0.53   \n",
       "Global_Sales                                5.99       5.83   \n",
       "\n",
       "Publisher     Virgin Interactive    Capcom  \\\n",
       "Column Name                                  \n",
       "NA_Sales                    1.88  1.633333   \n",
       "EU_Sales                    1.47  0.943333   \n",
       "JP_Sales                    2.02  2.693333   \n",
       "Other_Sales                 0.45  0.370000   \n",
       "Global_Sales                5.82  5.636667   \n",
       "\n",
       "Publisher     Warner Bros. Interactive Entertainment  Square Enix  \\\n",
       "Column Name                                                         \n",
       "NA_Sales                                        2.70     1.423333   \n",
       "EU_Sales                                        1.91     0.663333   \n",
       "JP_Sales                                        0.11     2.603333   \n",
       "Other_Sales                                     0.80     0.820000   \n",
       "Global_Sales                                    5.53     5.506667   \n",
       "\n",
       "Publisher     Universal Interactive  Eidos Interactive  RedOctane  \n",
       "Column Name                                                        \n",
       "NA_Sales                       2.07               2.30       3.81  \n",
       "EU_Sales                       2.29               2.46       0.63  \n",
       "JP_Sales                       0.24               0.20       0.00  \n",
       "Other_Sales                    0.82               0.28       0.68  \n",
       "Global_Sales                   5.42               5.24       5.12  \n",
       "\n",
       "[5 rows x 23 columns]"
      ]
     },
     "execution_count": 67,
     "metadata": {},
     "output_type": "execute_result"
    }
   ],
   "source": [
    "transposed_df"
   ]
  },
  {
   "cell_type": "code",
   "execution_count": 88,
   "id": "da77e64e",
   "metadata": {},
   "outputs": [],
   "source": [
    "#Global Sale değerleri hep aynı o satırı attım\n",
    "transposed_df= transposed_df.drop(transposed_df.index[-1])"
   ]
  },
  {
   "cell_type": "code",
   "execution_count": 89,
   "id": "22e5b7be",
   "metadata": {},
   "outputs": [
    {
     "data": {
      "text/html": [
       "<div>\n",
       "<style scoped>\n",
       "    .dataframe tbody tr th:only-of-type {\n",
       "        vertical-align: middle;\n",
       "    }\n",
       "\n",
       "    .dataframe tbody tr th {\n",
       "        vertical-align: top;\n",
       "    }\n",
       "\n",
       "    .dataframe thead th {\n",
       "        text-align: right;\n",
       "    }\n",
       "</style>\n",
       "<table border=\"1\" class=\"dataframe\">\n",
       "  <thead>\n",
       "    <tr style=\"text-align: right;\">\n",
       "      <th>Publisher</th>\n",
       "      <th>Nintendo</th>\n",
       "      <th>Take-Two Interactive</th>\n",
       "      <th>Activision</th>\n",
       "      <th>Microsoft Game Studios</th>\n",
       "      <th>Sony Computer Entertainment</th>\n",
       "      <th>Atari</th>\n",
       "      <th>Bethesda Softworks</th>\n",
       "      <th>Ubisoft</th>\n",
       "      <th>Electronic Arts</th>\n",
       "      <th>SquareSoft</th>\n",
       "      <th>...</th>\n",
       "      <th>Konami Digital Entertainment</th>\n",
       "      <th>Sony Computer Entertainment Europe</th>\n",
       "      <th>LucasArts</th>\n",
       "      <th>Virgin Interactive</th>\n",
       "      <th>Capcom</th>\n",
       "      <th>Warner Bros. Interactive Entertainment</th>\n",
       "      <th>Square Enix</th>\n",
       "      <th>Universal Interactive</th>\n",
       "      <th>Eidos Interactive</th>\n",
       "      <th>RedOctane</th>\n",
       "    </tr>\n",
       "    <tr>\n",
       "      <th>Column Name</th>\n",
       "      <th></th>\n",
       "      <th></th>\n",
       "      <th></th>\n",
       "      <th></th>\n",
       "      <th></th>\n",
       "      <th></th>\n",
       "      <th></th>\n",
       "      <th></th>\n",
       "      <th></th>\n",
       "      <th></th>\n",
       "      <th></th>\n",
       "      <th></th>\n",
       "      <th></th>\n",
       "      <th></th>\n",
       "      <th></th>\n",
       "      <th></th>\n",
       "      <th></th>\n",
       "      <th></th>\n",
       "      <th></th>\n",
       "      <th></th>\n",
       "      <th></th>\n",
       "    </tr>\n",
       "  </thead>\n",
       "  <tbody>\n",
       "    <tr>\n",
       "      <th>NA_Sales</th>\n",
       "      <td>6.455000</td>\n",
       "      <td>5.426154</td>\n",
       "      <td>5.028095</td>\n",
       "      <td>5.585333</td>\n",
       "      <td>3.371176</td>\n",
       "      <td>7.28</td>\n",
       "      <td>3.350000</td>\n",
       "      <td>3.803333</td>\n",
       "      <td>2.032353</td>\n",
       "      <td>1.950</td>\n",
       "      <td>...</td>\n",
       "      <td>2.753333</td>\n",
       "      <td>2.41</td>\n",
       "      <td>3.66</td>\n",
       "      <td>1.88</td>\n",
       "      <td>1.633333</td>\n",
       "      <td>2.70</td>\n",
       "      <td>1.423333</td>\n",
       "      <td>2.07</td>\n",
       "      <td>2.30</td>\n",
       "      <td>3.81</td>\n",
       "    </tr>\n",
       "    <tr>\n",
       "      <th>EU_Sales</th>\n",
       "      <td>3.557500</td>\n",
       "      <td>3.776154</td>\n",
       "      <td>3.510476</td>\n",
       "      <td>2.070667</td>\n",
       "      <td>2.529412</td>\n",
       "      <td>0.45</td>\n",
       "      <td>2.906667</td>\n",
       "      <td>2.301111</td>\n",
       "      <td>3.397059</td>\n",
       "      <td>1.245</td>\n",
       "      <td>...</td>\n",
       "      <td>1.860000</td>\n",
       "      <td>2.28</td>\n",
       "      <td>1.63</td>\n",
       "      <td>1.47</td>\n",
       "      <td>0.943333</td>\n",
       "      <td>1.91</td>\n",
       "      <td>0.663333</td>\n",
       "      <td>2.29</td>\n",
       "      <td>2.46</td>\n",
       "      <td>0.63</td>\n",
       "    </tr>\n",
       "    <tr>\n",
       "      <th>JP_Sales</th>\n",
       "      <td>2.714625</td>\n",
       "      <td>0.293077</td>\n",
       "      <td>0.185238</td>\n",
       "      <td>0.072000</td>\n",
       "      <td>1.324118</td>\n",
       "      <td>0.00</td>\n",
       "      <td>0.196667</td>\n",
       "      <td>0.062222</td>\n",
       "      <td>0.218824</td>\n",
       "      <td>3.205</td>\n",
       "      <td>...</td>\n",
       "      <td>0.826667</td>\n",
       "      <td>0.28</td>\n",
       "      <td>0.00</td>\n",
       "      <td>2.02</td>\n",
       "      <td>2.693333</td>\n",
       "      <td>0.11</td>\n",
       "      <td>2.603333</td>\n",
       "      <td>0.24</td>\n",
       "      <td>0.20</td>\n",
       "      <td>0.00</td>\n",
       "    </tr>\n",
       "    <tr>\n",
       "      <th>Other_Sales</th>\n",
       "      <td>0.819625</td>\n",
       "      <td>2.216154</td>\n",
       "      <td>1.163810</td>\n",
       "      <td>0.616667</td>\n",
       "      <td>1.088235</td>\n",
       "      <td>0.08</td>\n",
       "      <td>1.000000</td>\n",
       "      <td>0.738889</td>\n",
       "      <td>1.065294</td>\n",
       "      <td>0.185</td>\n",
       "      <td>...</td>\n",
       "      <td>0.596667</td>\n",
       "      <td>1.01</td>\n",
       "      <td>0.53</td>\n",
       "      <td>0.45</td>\n",
       "      <td>0.370000</td>\n",
       "      <td>0.80</td>\n",
       "      <td>0.820000</td>\n",
       "      <td>0.82</td>\n",
       "      <td>0.28</td>\n",
       "      <td>0.68</td>\n",
       "    </tr>\n",
       "  </tbody>\n",
       "</table>\n",
       "<p>4 rows × 23 columns</p>\n",
       "</div>"
      ],
      "text/plain": [
       "Publisher    Nintendo  Take-Two Interactive  Activision  \\\n",
       "Column Name                                               \n",
       "NA_Sales     6.455000              5.426154    5.028095   \n",
       "EU_Sales     3.557500              3.776154    3.510476   \n",
       "JP_Sales     2.714625              0.293077    0.185238   \n",
       "Other_Sales  0.819625              2.216154    1.163810   \n",
       "\n",
       "Publisher    Microsoft Game Studios  Sony Computer Entertainment  Atari  \\\n",
       "Column Name                                                               \n",
       "NA_Sales                   5.585333                     3.371176   7.28   \n",
       "EU_Sales                   2.070667                     2.529412   0.45   \n",
       "JP_Sales                   0.072000                     1.324118   0.00   \n",
       "Other_Sales                0.616667                     1.088235   0.08   \n",
       "\n",
       "Publisher    Bethesda Softworks   Ubisoft  Electronic Arts  SquareSoft  ...  \\\n",
       "Column Name                                                             ...   \n",
       "NA_Sales               3.350000  3.803333         2.032353       1.950  ...   \n",
       "EU_Sales               2.906667  2.301111         3.397059       1.245  ...   \n",
       "JP_Sales               0.196667  0.062222         0.218824       3.205  ...   \n",
       "Other_Sales            1.000000  0.738889         1.065294       0.185  ...   \n",
       "\n",
       "Publisher    Konami Digital Entertainment  Sony Computer Entertainment Europe  \\\n",
       "Column Name                                                                     \n",
       "NA_Sales                         2.753333                                2.41   \n",
       "EU_Sales                         1.860000                                2.28   \n",
       "JP_Sales                         0.826667                                0.28   \n",
       "Other_Sales                      0.596667                                1.01   \n",
       "\n",
       "Publisher    LucasArts  Virgin Interactive    Capcom  \\\n",
       "Column Name                                            \n",
       "NA_Sales          3.66                1.88  1.633333   \n",
       "EU_Sales          1.63                1.47  0.943333   \n",
       "JP_Sales          0.00                2.02  2.693333   \n",
       "Other_Sales       0.53                0.45  0.370000   \n",
       "\n",
       "Publisher    Warner Bros. Interactive Entertainment  Square Enix  \\\n",
       "Column Name                                                        \n",
       "NA_Sales                                       2.70     1.423333   \n",
       "EU_Sales                                       1.91     0.663333   \n",
       "JP_Sales                                       0.11     2.603333   \n",
       "Other_Sales                                    0.80     0.820000   \n",
       "\n",
       "Publisher    Universal Interactive  Eidos Interactive  RedOctane  \n",
       "Column Name                                                       \n",
       "NA_Sales                      2.07               2.30       3.81  \n",
       "EU_Sales                      2.29               2.46       0.63  \n",
       "JP_Sales                      0.24               0.20       0.00  \n",
       "Other_Sales                   0.82               0.28       0.68  \n",
       "\n",
       "[4 rows x 23 columns]"
      ]
     },
     "execution_count": 89,
     "metadata": {},
     "output_type": "execute_result"
    }
   ],
   "source": [
    "transposed_df"
   ]
  },
  {
   "cell_type": "code",
   "execution_count": 90,
   "id": "bcdae988",
   "metadata": {
    "collapsed": true
   },
   "outputs": [
    {
     "name": "stdout",
     "output_type": "stream",
     "text": [
      "Publisher     Nintendo  Take-Two Interactive  Activision  \\\n",
      "Column Name                                                \n",
      "NA_Sales     47.649805             46.331691   50.852437   \n",
      "EU_Sales     26.260911             32.243021   35.503757   \n",
      "JP_Sales     20.038939              2.502463    1.873435   \n",
      "Other_Sales   6.050344             18.922824   11.770372   \n",
      "\n",
      "Publisher    Microsoft Game Studios  Sony Computer Entertainment      Atari  \\\n",
      "Column Name                                                                   \n",
      "NA_Sales                  66.932971                    40.553354  93.213828   \n",
      "EU_Sales                  24.814253                    30.427399   5.761844   \n",
      "JP_Sales                   0.862827                    15.928389   0.000000   \n",
      "Other_Sales                7.389950                    13.090858   1.024328   \n",
      "\n",
      "Publisher    Bethesda Softworks    Ubisoft  Electronic Arts  SquareSoft  ...  \\\n",
      "Column Name                                                              ...   \n",
      "NA_Sales              44.946333  55.076428        30.272496   29.612756  ...   \n",
      "EU_Sales              38.998211  33.322607        50.600193   18.906606  ...   \n",
      "JP_Sales               2.638640   0.901046         3.259441   48.671222  ...   \n",
      "Other_Sales           13.416816  10.699920        15.867870    2.809415  ...   \n",
      "\n",
      "Publisher    Konami Digital Entertainment  Sony Computer Entertainment Europe  \\\n",
      "Column Name                                                                     \n",
      "NA_Sales                        45.610160                           40.301003   \n",
      "EU_Sales                        30.811706                           38.127090   \n",
      "JP_Sales                        13.694092                            4.682274   \n",
      "Other_Sales                      9.884042                           16.889632   \n",
      "\n",
      "Publisher    LucasArts  Virgin Interactive     Capcom  \\\n",
      "Column Name                                             \n",
      "NA_Sales     62.886598           32.302405  28.959811   \n",
      "EU_Sales     28.006873           25.257732  16.725768   \n",
      "JP_Sales      0.000000           34.707904  47.754137   \n",
      "Other_Sales   9.106529            7.731959   6.560284   \n",
      "\n",
      "Publisher    Warner Bros. Interactive Entertainment  Square Enix  \\\n",
      "Column Name                                                        \n",
      "NA_Sales                                  48.913043    25.831821   \n",
      "EU_Sales                                  34.601449    12.038717   \n",
      "JP_Sales                                   1.992754    47.247429   \n",
      "Other_Sales                               14.492754    14.882033   \n",
      "\n",
      "Publisher    Universal Interactive  Eidos Interactive  RedOctane  \n",
      "Column Name                                                       \n",
      "NA_Sales                 38.191882          43.893130  74.414062  \n",
      "EU_Sales                 42.250923          46.946565  12.304688  \n",
      "JP_Sales                  4.428044           3.816794   0.000000  \n",
      "Other_Sales              15.129151           5.343511  13.281250  \n",
      "\n",
      "[4 rows x 23 columns]\n"
     ]
    }
   ],
   "source": [
    "#her sutun toplamını alıyor ve o sutunun rowlarındaki değerlerin o sutundaki yuzdesini buluyorum\n",
    "\n",
    "column_totals = transposed_df.sum()\n",
    "percentage_df = transposed_df.div(column_totals) * 100\n"
   ]
  },
  {
   "cell_type": "code",
   "execution_count": 91,
   "id": "173b75c8",
   "metadata": {},
   "outputs": [
    {
     "data": {
      "text/html": [
       "<div>\n",
       "<style scoped>\n",
       "    .dataframe tbody tr th:only-of-type {\n",
       "        vertical-align: middle;\n",
       "    }\n",
       "\n",
       "    .dataframe tbody tr th {\n",
       "        vertical-align: top;\n",
       "    }\n",
       "\n",
       "    .dataframe thead th {\n",
       "        text-align: right;\n",
       "    }\n",
       "</style>\n",
       "<table border=\"1\" class=\"dataframe\">\n",
       "  <thead>\n",
       "    <tr style=\"text-align: right;\">\n",
       "      <th>Publisher</th>\n",
       "      <th>Nintendo</th>\n",
       "      <th>Take-Two Interactive</th>\n",
       "      <th>Activision</th>\n",
       "      <th>Microsoft Game Studios</th>\n",
       "      <th>Sony Computer Entertainment</th>\n",
       "      <th>Atari</th>\n",
       "      <th>Bethesda Softworks</th>\n",
       "      <th>Ubisoft</th>\n",
       "      <th>Electronic Arts</th>\n",
       "      <th>SquareSoft</th>\n",
       "      <th>...</th>\n",
       "      <th>Konami Digital Entertainment</th>\n",
       "      <th>Sony Computer Entertainment Europe</th>\n",
       "      <th>LucasArts</th>\n",
       "      <th>Virgin Interactive</th>\n",
       "      <th>Capcom</th>\n",
       "      <th>Warner Bros. Interactive Entertainment</th>\n",
       "      <th>Square Enix</th>\n",
       "      <th>Universal Interactive</th>\n",
       "      <th>Eidos Interactive</th>\n",
       "      <th>RedOctane</th>\n",
       "    </tr>\n",
       "    <tr>\n",
       "      <th>Column Name</th>\n",
       "      <th></th>\n",
       "      <th></th>\n",
       "      <th></th>\n",
       "      <th></th>\n",
       "      <th></th>\n",
       "      <th></th>\n",
       "      <th></th>\n",
       "      <th></th>\n",
       "      <th></th>\n",
       "      <th></th>\n",
       "      <th></th>\n",
       "      <th></th>\n",
       "      <th></th>\n",
       "      <th></th>\n",
       "      <th></th>\n",
       "      <th></th>\n",
       "      <th></th>\n",
       "      <th></th>\n",
       "      <th></th>\n",
       "      <th></th>\n",
       "      <th></th>\n",
       "    </tr>\n",
       "  </thead>\n",
       "  <tbody>\n",
       "    <tr>\n",
       "      <th>NA_Sales</th>\n",
       "      <td>47.649805</td>\n",
       "      <td>46.331691</td>\n",
       "      <td>50.852437</td>\n",
       "      <td>66.932971</td>\n",
       "      <td>40.553354</td>\n",
       "      <td>93.213828</td>\n",
       "      <td>44.946333</td>\n",
       "      <td>55.076428</td>\n",
       "      <td>30.272496</td>\n",
       "      <td>29.612756</td>\n",
       "      <td>...</td>\n",
       "      <td>45.610160</td>\n",
       "      <td>40.301003</td>\n",
       "      <td>62.886598</td>\n",
       "      <td>32.302405</td>\n",
       "      <td>28.959811</td>\n",
       "      <td>48.913043</td>\n",
       "      <td>25.831821</td>\n",
       "      <td>38.191882</td>\n",
       "      <td>43.893130</td>\n",
       "      <td>74.414062</td>\n",
       "    </tr>\n",
       "    <tr>\n",
       "      <th>EU_Sales</th>\n",
       "      <td>26.260911</td>\n",
       "      <td>32.243021</td>\n",
       "      <td>35.503757</td>\n",
       "      <td>24.814253</td>\n",
       "      <td>30.427399</td>\n",
       "      <td>5.761844</td>\n",
       "      <td>38.998211</td>\n",
       "      <td>33.322607</td>\n",
       "      <td>50.600193</td>\n",
       "      <td>18.906606</td>\n",
       "      <td>...</td>\n",
       "      <td>30.811706</td>\n",
       "      <td>38.127090</td>\n",
       "      <td>28.006873</td>\n",
       "      <td>25.257732</td>\n",
       "      <td>16.725768</td>\n",
       "      <td>34.601449</td>\n",
       "      <td>12.038717</td>\n",
       "      <td>42.250923</td>\n",
       "      <td>46.946565</td>\n",
       "      <td>12.304688</td>\n",
       "    </tr>\n",
       "    <tr>\n",
       "      <th>JP_Sales</th>\n",
       "      <td>20.038939</td>\n",
       "      <td>2.502463</td>\n",
       "      <td>1.873435</td>\n",
       "      <td>0.862827</td>\n",
       "      <td>15.928389</td>\n",
       "      <td>0.000000</td>\n",
       "      <td>2.638640</td>\n",
       "      <td>0.901046</td>\n",
       "      <td>3.259441</td>\n",
       "      <td>48.671222</td>\n",
       "      <td>...</td>\n",
       "      <td>13.694092</td>\n",
       "      <td>4.682274</td>\n",
       "      <td>0.000000</td>\n",
       "      <td>34.707904</td>\n",
       "      <td>47.754137</td>\n",
       "      <td>1.992754</td>\n",
       "      <td>47.247429</td>\n",
       "      <td>4.428044</td>\n",
       "      <td>3.816794</td>\n",
       "      <td>0.000000</td>\n",
       "    </tr>\n",
       "    <tr>\n",
       "      <th>Other_Sales</th>\n",
       "      <td>6.050344</td>\n",
       "      <td>18.922824</td>\n",
       "      <td>11.770372</td>\n",
       "      <td>7.389950</td>\n",
       "      <td>13.090858</td>\n",
       "      <td>1.024328</td>\n",
       "      <td>13.416816</td>\n",
       "      <td>10.699920</td>\n",
       "      <td>15.867870</td>\n",
       "      <td>2.809415</td>\n",
       "      <td>...</td>\n",
       "      <td>9.884042</td>\n",
       "      <td>16.889632</td>\n",
       "      <td>9.106529</td>\n",
       "      <td>7.731959</td>\n",
       "      <td>6.560284</td>\n",
       "      <td>14.492754</td>\n",
       "      <td>14.882033</td>\n",
       "      <td>15.129151</td>\n",
       "      <td>5.343511</td>\n",
       "      <td>13.281250</td>\n",
       "    </tr>\n",
       "  </tbody>\n",
       "</table>\n",
       "<p>4 rows × 23 columns</p>\n",
       "</div>"
      ],
      "text/plain": [
       "Publisher     Nintendo  Take-Two Interactive  Activision  \\\n",
       "Column Name                                                \n",
       "NA_Sales     47.649805             46.331691   50.852437   \n",
       "EU_Sales     26.260911             32.243021   35.503757   \n",
       "JP_Sales     20.038939              2.502463    1.873435   \n",
       "Other_Sales   6.050344             18.922824   11.770372   \n",
       "\n",
       "Publisher    Microsoft Game Studios  Sony Computer Entertainment      Atari  \\\n",
       "Column Name                                                                   \n",
       "NA_Sales                  66.932971                    40.553354  93.213828   \n",
       "EU_Sales                  24.814253                    30.427399   5.761844   \n",
       "JP_Sales                   0.862827                    15.928389   0.000000   \n",
       "Other_Sales                7.389950                    13.090858   1.024328   \n",
       "\n",
       "Publisher    Bethesda Softworks    Ubisoft  Electronic Arts  SquareSoft  ...  \\\n",
       "Column Name                                                              ...   \n",
       "NA_Sales              44.946333  55.076428        30.272496   29.612756  ...   \n",
       "EU_Sales              38.998211  33.322607        50.600193   18.906606  ...   \n",
       "JP_Sales               2.638640   0.901046         3.259441   48.671222  ...   \n",
       "Other_Sales           13.416816  10.699920        15.867870    2.809415  ...   \n",
       "\n",
       "Publisher    Konami Digital Entertainment  Sony Computer Entertainment Europe  \\\n",
       "Column Name                                                                     \n",
       "NA_Sales                        45.610160                           40.301003   \n",
       "EU_Sales                        30.811706                           38.127090   \n",
       "JP_Sales                        13.694092                            4.682274   \n",
       "Other_Sales                      9.884042                           16.889632   \n",
       "\n",
       "Publisher    LucasArts  Virgin Interactive     Capcom  \\\n",
       "Column Name                                             \n",
       "NA_Sales     62.886598           32.302405  28.959811   \n",
       "EU_Sales     28.006873           25.257732  16.725768   \n",
       "JP_Sales      0.000000           34.707904  47.754137   \n",
       "Other_Sales   9.106529            7.731959   6.560284   \n",
       "\n",
       "Publisher    Warner Bros. Interactive Entertainment  Square Enix  \\\n",
       "Column Name                                                        \n",
       "NA_Sales                                  48.913043    25.831821   \n",
       "EU_Sales                                  34.601449    12.038717   \n",
       "JP_Sales                                   1.992754    47.247429   \n",
       "Other_Sales                               14.492754    14.882033   \n",
       "\n",
       "Publisher    Universal Interactive  Eidos Interactive  RedOctane  \n",
       "Column Name                                                       \n",
       "NA_Sales                 38.191882          43.893130  74.414062  \n",
       "EU_Sales                 42.250923          46.946565  12.304688  \n",
       "JP_Sales                  4.428044           3.816794   0.000000  \n",
       "Other_Sales              15.129151           5.343511  13.281250  \n",
       "\n",
       "[4 rows x 23 columns]"
      ]
     },
     "execution_count": 91,
     "metadata": {},
     "output_type": "execute_result"
    }
   ],
   "source": [
    "percentage_df"
   ]
  },
  {
   "cell_type": "code",
   "execution_count": 92,
   "id": "6baf7b44",
   "metadata": {},
   "outputs": [],
   "source": [
    "df_long = percentage_df.reset_index().melt(id_vars='Column Name', var_name='publisher', value_name='sales')"
   ]
  },
  {
   "cell_type": "code",
   "execution_count": 93,
   "id": "5bbd75cd",
   "metadata": {},
   "outputs": [
    {
     "data": {
      "text/html": [
       "<div>\n",
       "<style scoped>\n",
       "    .dataframe tbody tr th:only-of-type {\n",
       "        vertical-align: middle;\n",
       "    }\n",
       "\n",
       "    .dataframe tbody tr th {\n",
       "        vertical-align: top;\n",
       "    }\n",
       "\n",
       "    .dataframe thead th {\n",
       "        text-align: right;\n",
       "    }\n",
       "</style>\n",
       "<table border=\"1\" class=\"dataframe\">\n",
       "  <thead>\n",
       "    <tr style=\"text-align: right;\">\n",
       "      <th></th>\n",
       "      <th>Column Name</th>\n",
       "      <th>publisher</th>\n",
       "      <th>sales</th>\n",
       "    </tr>\n",
       "  </thead>\n",
       "  <tbody>\n",
       "    <tr>\n",
       "      <th>0</th>\n",
       "      <td>NA_Sales</td>\n",
       "      <td>Nintendo</td>\n",
       "      <td>47.649805</td>\n",
       "    </tr>\n",
       "    <tr>\n",
       "      <th>1</th>\n",
       "      <td>EU_Sales</td>\n",
       "      <td>Nintendo</td>\n",
       "      <td>26.260911</td>\n",
       "    </tr>\n",
       "    <tr>\n",
       "      <th>2</th>\n",
       "      <td>JP_Sales</td>\n",
       "      <td>Nintendo</td>\n",
       "      <td>20.038939</td>\n",
       "    </tr>\n",
       "    <tr>\n",
       "      <th>3</th>\n",
       "      <td>Other_Sales</td>\n",
       "      <td>Nintendo</td>\n",
       "      <td>6.050344</td>\n",
       "    </tr>\n",
       "    <tr>\n",
       "      <th>4</th>\n",
       "      <td>NA_Sales</td>\n",
       "      <td>Take-Two Interactive</td>\n",
       "      <td>46.331691</td>\n",
       "    </tr>\n",
       "    <tr>\n",
       "      <th>...</th>\n",
       "      <td>...</td>\n",
       "      <td>...</td>\n",
       "      <td>...</td>\n",
       "    </tr>\n",
       "    <tr>\n",
       "      <th>87</th>\n",
       "      <td>Other_Sales</td>\n",
       "      <td>Eidos Interactive</td>\n",
       "      <td>5.343511</td>\n",
       "    </tr>\n",
       "    <tr>\n",
       "      <th>88</th>\n",
       "      <td>NA_Sales</td>\n",
       "      <td>RedOctane</td>\n",
       "      <td>74.414062</td>\n",
       "    </tr>\n",
       "    <tr>\n",
       "      <th>89</th>\n",
       "      <td>EU_Sales</td>\n",
       "      <td>RedOctane</td>\n",
       "      <td>12.304688</td>\n",
       "    </tr>\n",
       "    <tr>\n",
       "      <th>90</th>\n",
       "      <td>JP_Sales</td>\n",
       "      <td>RedOctane</td>\n",
       "      <td>0.000000</td>\n",
       "    </tr>\n",
       "    <tr>\n",
       "      <th>91</th>\n",
       "      <td>Other_Sales</td>\n",
       "      <td>RedOctane</td>\n",
       "      <td>13.281250</td>\n",
       "    </tr>\n",
       "  </tbody>\n",
       "</table>\n",
       "<p>92 rows × 3 columns</p>\n",
       "</div>"
      ],
      "text/plain": [
       "    Column Name             publisher      sales\n",
       "0      NA_Sales              Nintendo  47.649805\n",
       "1      EU_Sales              Nintendo  26.260911\n",
       "2      JP_Sales              Nintendo  20.038939\n",
       "3   Other_Sales              Nintendo   6.050344\n",
       "4      NA_Sales  Take-Two Interactive  46.331691\n",
       "..          ...                   ...        ...\n",
       "87  Other_Sales     Eidos Interactive   5.343511\n",
       "88     NA_Sales             RedOctane  74.414062\n",
       "89     EU_Sales             RedOctane  12.304688\n",
       "90     JP_Sales             RedOctane   0.000000\n",
       "91  Other_Sales             RedOctane  13.281250\n",
       "\n",
       "[92 rows x 3 columns]"
      ]
     },
     "execution_count": 93,
     "metadata": {},
     "output_type": "execute_result"
    }
   ],
   "source": [
    "df_long"
   ]
  },
  {
   "cell_type": "code",
   "execution_count": 101,
   "id": "4adfc770",
   "metadata": {
    "scrolled": true
   },
   "outputs": [
    {
     "data": {
      "application/vnd.plotly.v1+json": {
       "config": {
        "plotlyServerURL": "https://plotly.com"
       },
       "data": [
        {
         "alignmentgroup": "True",
         "hovertemplate": "Column Name=NA_Sales<br>publisher=%{x}<br>sales=%{y}<extra></extra>",
         "legendgroup": "NA_Sales",
         "marker": {
          "color": "rgb(158, 185, 243)",
          "line": {
           "color": "rgba(0,0,0,0)",
           "width": 0
          },
          "pattern": {
           "shape": ""
          }
         },
         "name": "NA_Sales",
         "offsetgroup": "NA_Sales",
         "orientation": "v",
         "showlegend": true,
         "textposition": "outside",
         "type": "bar",
         "x": [
          "Nintendo",
          "Take-Two Interactive",
          "Activision",
          "Microsoft Game Studios",
          "Sony Computer Entertainment",
          "Atari",
          "Bethesda Softworks",
          "Ubisoft",
          "Electronic Arts",
          "SquareSoft",
          "Sega",
          "GT Interactive",
          "505 Games",
          "Konami Digital Entertainment",
          "Sony Computer Entertainment Europe",
          "LucasArts",
          "Virgin Interactive",
          "Capcom",
          "Warner Bros. Interactive Entertainment",
          "Square Enix",
          "Universal Interactive",
          "Eidos Interactive",
          "RedOctane"
         ],
         "xaxis": "x",
         "y": [
          47.64980530385517,
          46.33169129720854,
          50.8524369100366,
          66.93297115922346,
          40.55335409000849,
          93.21382842509603,
          44.94633273703042,
          55.07642799678197,
          30.272496276176287,
          29.6127562642369,
          45.23685580426861,
          49.680511182108624,
          52.91300877893056,
          45.610160132523475,
          40.301003344481614,
          62.88659793814433,
          32.302405498281786,
          28.959810874704495,
          48.91304347826087,
          25.83182093163944,
          38.191881918819185,
          43.89312977099236,
          74.4140625
         ],
         "yaxis": "y"
        },
        {
         "alignmentgroup": "True",
         "hovertemplate": "Column Name=EU_Sales<br>publisher=%{x}<br>sales=%{y}<extra></extra>",
         "legendgroup": "EU_Sales",
         "marker": {
          "color": "rgb(254, 136, 177)",
          "line": {
           "color": "rgba(0,0,0,0)",
           "width": 0
          },
          "pattern": {
           "shape": ""
          }
         },
         "name": "EU_Sales",
         "offsetgroup": "EU_Sales",
         "orientation": "v",
         "showlegend": true,
         "textposition": "outside",
         "type": "bar",
         "x": [
          "Nintendo",
          "Take-Two Interactive",
          "Activision",
          "Microsoft Game Studios",
          "Sony Computer Entertainment",
          "Atari",
          "Bethesda Softworks",
          "Ubisoft",
          "Electronic Arts",
          "SquareSoft",
          "Sega",
          "GT Interactive",
          "505 Games",
          "Konami Digital Entertainment",
          "Sony Computer Entertainment Europe",
          "LucasArts",
          "Virgin Interactive",
          "Capcom",
          "Warner Bros. Interactive Entertainment",
          "Square Enix",
          "Universal Interactive",
          "Eidos Interactive",
          "RedOctane"
         ],
         "xaxis": "x",
         "y": [
          26.260911288685477,
          32.24302134646962,
          35.503756501637454,
          24.81425261644164,
          30.427398811208604,
          5.7618437900128034,
          38.998211091234346,
          33.32260659694288,
          50.6001927626391,
          18.906605922551254,
          39.45861530452889,
          44.72843450479233,
          36.552274541101355,
          30.811706239646607,
          38.12709030100335,
          28.006872852233673,
          25.257731958762893,
          16.725768321513,
          34.60144927536232,
          12.03871748336358,
          42.25092250922509,
          46.94656488549618,
          12.3046875
         ],
         "yaxis": "y"
        },
        {
         "alignmentgroup": "True",
         "hovertemplate": "Column Name=JP_Sales<br>publisher=%{x}<br>sales=%{y}<extra></extra>",
         "legendgroup": "JP_Sales",
         "marker": {
          "color": "rgb(201, 219, 116)",
          "line": {
           "color": "rgba(0,0,0,0)",
           "width": 0
          },
          "pattern": {
           "shape": ""
          }
         },
         "name": "JP_Sales",
         "offsetgroup": "JP_Sales",
         "orientation": "v",
         "showlegend": true,
         "textposition": "outside",
         "type": "bar",
         "x": [
          "Nintendo",
          "Take-Two Interactive",
          "Activision",
          "Microsoft Game Studios",
          "Sony Computer Entertainment",
          "Atari",
          "Bethesda Softworks",
          "Ubisoft",
          "Electronic Arts",
          "SquareSoft",
          "Sega",
          "GT Interactive",
          "505 Games",
          "Konami Digital Entertainment",
          "Sony Computer Entertainment Europe",
          "LucasArts",
          "Virgin Interactive",
          "Capcom",
          "Warner Bros. Interactive Entertainment",
          "Square Enix",
          "Universal Interactive",
          "Eidos Interactive",
          "RedOctane"
         ],
         "xaxis": "x",
         "y": [
          20.038939228966356,
          2.502463054187192,
          1.8734347909843962,
          0.8628265558839979,
          15.928389470704781,
          0,
          2.638640429338104,
          0.9010458567980693,
          3.259440988346622,
          48.67122247532271,
          6.559083810515356,
          0.31948881789137384,
          0.5586592178770949,
          13.694091662065158,
          4.68227424749164,
          0,
          34.70790378006873,
          47.75413711583924,
          1.9927536231884055,
          47.247428917120395,
          4.428044280442804,
          3.816793893129771,
          0
         ],
         "yaxis": "y"
        },
        {
         "alignmentgroup": "True",
         "hovertemplate": "Column Name=Other_Sales<br>publisher=%{x}<br>sales=%{y}<extra></extra>",
         "legendgroup": "Other_Sales",
         "marker": {
          "color": "rgb(139, 224, 164)",
          "line": {
           "color": "rgba(0,0,0,0)",
           "width": 0
          },
          "pattern": {
           "shape": ""
          }
         },
         "name": "Other_Sales",
         "offsetgroup": "Other_Sales",
         "orientation": "v",
         "showlegend": true,
         "textposition": "outside",
         "type": "bar",
         "x": [
          "Nintendo",
          "Take-Two Interactive",
          "Activision",
          "Microsoft Game Studios",
          "Sony Computer Entertainment",
          "Atari",
          "Bethesda Softworks",
          "Ubisoft",
          "Electronic Arts",
          "SquareSoft",
          "Sega",
          "GT Interactive",
          "505 Games",
          "Konami Digital Entertainment",
          "Sony Computer Entertainment Europe",
          "LucasArts",
          "Virgin Interactive",
          "Capcom",
          "Warner Bros. Interactive Entertainment",
          "Square Enix",
          "Universal Interactive",
          "Eidos Interactive",
          "RedOctane"
         ],
         "xaxis": "x",
         "y": [
          6.050344178492996,
          18.92282430213465,
          11.770371797341554,
          7.389949668450907,
          13.09085762807812,
          1.0243277848911652,
          13.416815742397139,
          10.699919549477073,
          15.867869972837989,
          2.809415337889142,
          8.74544508068714,
          5.2715654952076685,
          9.976057462090981,
          9.884041965764771,
          16.889632107023413,
          9.106529209621993,
          7.7319587628866,
          6.560283687943262,
          14.492753623188406,
          14.882032667876588,
          15.129151291512915,
          5.34351145038168,
          13.28125
         ],
         "yaxis": "y"
        }
       ],
       "layout": {
        "barmode": "relative",
        "height": 800,
        "legend": {
         "font": {
          "size": 15
         },
         "itemclick": false,
         "itemdoubleclick": false,
         "title": {
          "text": ""
         },
         "tracegroupgap": 0
        },
        "margin": {
         "t": 60
        },
        "template": {
         "data": {
          "bar": [
           {
            "error_x": {
             "color": "#2a3f5f"
            },
            "error_y": {
             "color": "#2a3f5f"
            },
            "marker": {
             "line": {
              "color": "#E5ECF6",
              "width": 0.5
             },
             "pattern": {
              "fillmode": "overlay",
              "size": 10,
              "solidity": 0.2
             }
            },
            "type": "bar"
           }
          ],
          "barpolar": [
           {
            "marker": {
             "line": {
              "color": "#E5ECF6",
              "width": 0.5
             },
             "pattern": {
              "fillmode": "overlay",
              "size": 10,
              "solidity": 0.2
             }
            },
            "type": "barpolar"
           }
          ],
          "carpet": [
           {
            "aaxis": {
             "endlinecolor": "#2a3f5f",
             "gridcolor": "white",
             "linecolor": "white",
             "minorgridcolor": "white",
             "startlinecolor": "#2a3f5f"
            },
            "baxis": {
             "endlinecolor": "#2a3f5f",
             "gridcolor": "white",
             "linecolor": "white",
             "minorgridcolor": "white",
             "startlinecolor": "#2a3f5f"
            },
            "type": "carpet"
           }
          ],
          "choropleth": [
           {
            "colorbar": {
             "outlinewidth": 0,
             "ticks": ""
            },
            "type": "choropleth"
           }
          ],
          "contour": [
           {
            "colorbar": {
             "outlinewidth": 0,
             "ticks": ""
            },
            "colorscale": [
             [
              0,
              "#0d0887"
             ],
             [
              0.1111111111111111,
              "#46039f"
             ],
             [
              0.2222222222222222,
              "#7201a8"
             ],
             [
              0.3333333333333333,
              "#9c179e"
             ],
             [
              0.4444444444444444,
              "#bd3786"
             ],
             [
              0.5555555555555556,
              "#d8576b"
             ],
             [
              0.6666666666666666,
              "#ed7953"
             ],
             [
              0.7777777777777778,
              "#fb9f3a"
             ],
             [
              0.8888888888888888,
              "#fdca26"
             ],
             [
              1,
              "#f0f921"
             ]
            ],
            "type": "contour"
           }
          ],
          "contourcarpet": [
           {
            "colorbar": {
             "outlinewidth": 0,
             "ticks": ""
            },
            "type": "contourcarpet"
           }
          ],
          "heatmap": [
           {
            "colorbar": {
             "outlinewidth": 0,
             "ticks": ""
            },
            "colorscale": [
             [
              0,
              "#0d0887"
             ],
             [
              0.1111111111111111,
              "#46039f"
             ],
             [
              0.2222222222222222,
              "#7201a8"
             ],
             [
              0.3333333333333333,
              "#9c179e"
             ],
             [
              0.4444444444444444,
              "#bd3786"
             ],
             [
              0.5555555555555556,
              "#d8576b"
             ],
             [
              0.6666666666666666,
              "#ed7953"
             ],
             [
              0.7777777777777778,
              "#fb9f3a"
             ],
             [
              0.8888888888888888,
              "#fdca26"
             ],
             [
              1,
              "#f0f921"
             ]
            ],
            "type": "heatmap"
           }
          ],
          "heatmapgl": [
           {
            "colorbar": {
             "outlinewidth": 0,
             "ticks": ""
            },
            "colorscale": [
             [
              0,
              "#0d0887"
             ],
             [
              0.1111111111111111,
              "#46039f"
             ],
             [
              0.2222222222222222,
              "#7201a8"
             ],
             [
              0.3333333333333333,
              "#9c179e"
             ],
             [
              0.4444444444444444,
              "#bd3786"
             ],
             [
              0.5555555555555556,
              "#d8576b"
             ],
             [
              0.6666666666666666,
              "#ed7953"
             ],
             [
              0.7777777777777778,
              "#fb9f3a"
             ],
             [
              0.8888888888888888,
              "#fdca26"
             ],
             [
              1,
              "#f0f921"
             ]
            ],
            "type": "heatmapgl"
           }
          ],
          "histogram": [
           {
            "marker": {
             "pattern": {
              "fillmode": "overlay",
              "size": 10,
              "solidity": 0.2
             }
            },
            "type": "histogram"
           }
          ],
          "histogram2d": [
           {
            "colorbar": {
             "outlinewidth": 0,
             "ticks": ""
            },
            "colorscale": [
             [
              0,
              "#0d0887"
             ],
             [
              0.1111111111111111,
              "#46039f"
             ],
             [
              0.2222222222222222,
              "#7201a8"
             ],
             [
              0.3333333333333333,
              "#9c179e"
             ],
             [
              0.4444444444444444,
              "#bd3786"
             ],
             [
              0.5555555555555556,
              "#d8576b"
             ],
             [
              0.6666666666666666,
              "#ed7953"
             ],
             [
              0.7777777777777778,
              "#fb9f3a"
             ],
             [
              0.8888888888888888,
              "#fdca26"
             ],
             [
              1,
              "#f0f921"
             ]
            ],
            "type": "histogram2d"
           }
          ],
          "histogram2dcontour": [
           {
            "colorbar": {
             "outlinewidth": 0,
             "ticks": ""
            },
            "colorscale": [
             [
              0,
              "#0d0887"
             ],
             [
              0.1111111111111111,
              "#46039f"
             ],
             [
              0.2222222222222222,
              "#7201a8"
             ],
             [
              0.3333333333333333,
              "#9c179e"
             ],
             [
              0.4444444444444444,
              "#bd3786"
             ],
             [
              0.5555555555555556,
              "#d8576b"
             ],
             [
              0.6666666666666666,
              "#ed7953"
             ],
             [
              0.7777777777777778,
              "#fb9f3a"
             ],
             [
              0.8888888888888888,
              "#fdca26"
             ],
             [
              1,
              "#f0f921"
             ]
            ],
            "type": "histogram2dcontour"
           }
          ],
          "mesh3d": [
           {
            "colorbar": {
             "outlinewidth": 0,
             "ticks": ""
            },
            "type": "mesh3d"
           }
          ],
          "parcoords": [
           {
            "line": {
             "colorbar": {
              "outlinewidth": 0,
              "ticks": ""
             }
            },
            "type": "parcoords"
           }
          ],
          "pie": [
           {
            "automargin": true,
            "type": "pie"
           }
          ],
          "scatter": [
           {
            "fillpattern": {
             "fillmode": "overlay",
             "size": 10,
             "solidity": 0.2
            },
            "type": "scatter"
           }
          ],
          "scatter3d": [
           {
            "line": {
             "colorbar": {
              "outlinewidth": 0,
              "ticks": ""
             }
            },
            "marker": {
             "colorbar": {
              "outlinewidth": 0,
              "ticks": ""
             }
            },
            "type": "scatter3d"
           }
          ],
          "scattercarpet": [
           {
            "marker": {
             "colorbar": {
              "outlinewidth": 0,
              "ticks": ""
             }
            },
            "type": "scattercarpet"
           }
          ],
          "scattergeo": [
           {
            "marker": {
             "colorbar": {
              "outlinewidth": 0,
              "ticks": ""
             }
            },
            "type": "scattergeo"
           }
          ],
          "scattergl": [
           {
            "marker": {
             "colorbar": {
              "outlinewidth": 0,
              "ticks": ""
             }
            },
            "type": "scattergl"
           }
          ],
          "scattermapbox": [
           {
            "marker": {
             "colorbar": {
              "outlinewidth": 0,
              "ticks": ""
             }
            },
            "type": "scattermapbox"
           }
          ],
          "scatterpolar": [
           {
            "marker": {
             "colorbar": {
              "outlinewidth": 0,
              "ticks": ""
             }
            },
            "type": "scatterpolar"
           }
          ],
          "scatterpolargl": [
           {
            "marker": {
             "colorbar": {
              "outlinewidth": 0,
              "ticks": ""
             }
            },
            "type": "scatterpolargl"
           }
          ],
          "scatterternary": [
           {
            "marker": {
             "colorbar": {
              "outlinewidth": 0,
              "ticks": ""
             }
            },
            "type": "scatterternary"
           }
          ],
          "surface": [
           {
            "colorbar": {
             "outlinewidth": 0,
             "ticks": ""
            },
            "colorscale": [
             [
              0,
              "#0d0887"
             ],
             [
              0.1111111111111111,
              "#46039f"
             ],
             [
              0.2222222222222222,
              "#7201a8"
             ],
             [
              0.3333333333333333,
              "#9c179e"
             ],
             [
              0.4444444444444444,
              "#bd3786"
             ],
             [
              0.5555555555555556,
              "#d8576b"
             ],
             [
              0.6666666666666666,
              "#ed7953"
             ],
             [
              0.7777777777777778,
              "#fb9f3a"
             ],
             [
              0.8888888888888888,
              "#fdca26"
             ],
             [
              1,
              "#f0f921"
             ]
            ],
            "type": "surface"
           }
          ],
          "table": [
           {
            "cells": {
             "fill": {
              "color": "#EBF0F8"
             },
             "line": {
              "color": "white"
             }
            },
            "header": {
             "fill": {
              "color": "#C8D4E3"
             },
             "line": {
              "color": "white"
             }
            },
            "type": "table"
           }
          ]
         },
         "layout": {
          "annotationdefaults": {
           "arrowcolor": "#2a3f5f",
           "arrowhead": 0,
           "arrowwidth": 1
          },
          "autotypenumbers": "strict",
          "coloraxis": {
           "colorbar": {
            "outlinewidth": 0,
            "ticks": ""
           }
          },
          "colorscale": {
           "diverging": [
            [
             0,
             "#8e0152"
            ],
            [
             0.1,
             "#c51b7d"
            ],
            [
             0.2,
             "#de77ae"
            ],
            [
             0.3,
             "#f1b6da"
            ],
            [
             0.4,
             "#fde0ef"
            ],
            [
             0.5,
             "#f7f7f7"
            ],
            [
             0.6,
             "#e6f5d0"
            ],
            [
             0.7,
             "#b8e186"
            ],
            [
             0.8,
             "#7fbc41"
            ],
            [
             0.9,
             "#4d9221"
            ],
            [
             1,
             "#276419"
            ]
           ],
           "sequential": [
            [
             0,
             "#0d0887"
            ],
            [
             0.1111111111111111,
             "#46039f"
            ],
            [
             0.2222222222222222,
             "#7201a8"
            ],
            [
             0.3333333333333333,
             "#9c179e"
            ],
            [
             0.4444444444444444,
             "#bd3786"
            ],
            [
             0.5555555555555556,
             "#d8576b"
            ],
            [
             0.6666666666666666,
             "#ed7953"
            ],
            [
             0.7777777777777778,
             "#fb9f3a"
            ],
            [
             0.8888888888888888,
             "#fdca26"
            ],
            [
             1,
             "#f0f921"
            ]
           ],
           "sequentialminus": [
            [
             0,
             "#0d0887"
            ],
            [
             0.1111111111111111,
             "#46039f"
            ],
            [
             0.2222222222222222,
             "#7201a8"
            ],
            [
             0.3333333333333333,
             "#9c179e"
            ],
            [
             0.4444444444444444,
             "#bd3786"
            ],
            [
             0.5555555555555556,
             "#d8576b"
            ],
            [
             0.6666666666666666,
             "#ed7953"
            ],
            [
             0.7777777777777778,
             "#fb9f3a"
            ],
            [
             0.8888888888888888,
             "#fdca26"
            ],
            [
             1,
             "#f0f921"
            ]
           ]
          },
          "colorway": [
           "#636efa",
           "#EF553B",
           "#00cc96",
           "#ab63fa",
           "#FFA15A",
           "#19d3f3",
           "#FF6692",
           "#B6E880",
           "#FF97FF",
           "#FECB52"
          ],
          "font": {
           "color": "#2a3f5f"
          },
          "geo": {
           "bgcolor": "white",
           "lakecolor": "white",
           "landcolor": "#E5ECF6",
           "showlakes": true,
           "showland": true,
           "subunitcolor": "white"
          },
          "hoverlabel": {
           "align": "left"
          },
          "hovermode": "closest",
          "mapbox": {
           "style": "light"
          },
          "paper_bgcolor": "white",
          "plot_bgcolor": "#E5ECF6",
          "polar": {
           "angularaxis": {
            "gridcolor": "white",
            "linecolor": "white",
            "ticks": ""
           },
           "bgcolor": "#E5ECF6",
           "radialaxis": {
            "gridcolor": "white",
            "linecolor": "white",
            "ticks": ""
           }
          },
          "scene": {
           "xaxis": {
            "backgroundcolor": "#E5ECF6",
            "gridcolor": "white",
            "gridwidth": 2,
            "linecolor": "white",
            "showbackground": true,
            "ticks": "",
            "zerolinecolor": "white"
           },
           "yaxis": {
            "backgroundcolor": "#E5ECF6",
            "gridcolor": "white",
            "gridwidth": 2,
            "linecolor": "white",
            "showbackground": true,
            "ticks": "",
            "zerolinecolor": "white"
           },
           "zaxis": {
            "backgroundcolor": "#E5ECF6",
            "gridcolor": "white",
            "gridwidth": 2,
            "linecolor": "white",
            "showbackground": true,
            "ticks": "",
            "zerolinecolor": "white"
           }
          },
          "shapedefaults": {
           "line": {
            "color": "#2a3f5f"
           }
          },
          "ternary": {
           "aaxis": {
            "gridcolor": "white",
            "linecolor": "white",
            "ticks": ""
           },
           "baxis": {
            "gridcolor": "white",
            "linecolor": "white",
            "ticks": ""
           },
           "bgcolor": "#E5ECF6",
           "caxis": {
            "gridcolor": "white",
            "linecolor": "white",
            "ticks": ""
           }
          },
          "title": {
           "x": 0.05
          },
          "xaxis": {
           "automargin": true,
           "gridcolor": "white",
           "linecolor": "white",
           "ticks": "",
           "title": {
            "standoff": 15
           },
           "zerolinecolor": "white",
           "zerolinewidth": 2
          },
          "yaxis": {
           "automargin": true,
           "gridcolor": "white",
           "linecolor": "white",
           "ticks": "",
           "title": {
            "standoff": 15
           },
           "zerolinecolor": "white",
           "zerolinewidth": 2
          }
         }
        },
        "title": {
         "text": "Interactive Stacked Barplot"
        },
        "width": 800,
        "xaxis": {
         "anchor": "y",
         "categoryarray": [
          "Nintendo",
          "Nintendo",
          "Nintendo",
          "Nintendo",
          "Take-Two Interactive",
          "Take-Two Interactive",
          "Take-Two Interactive",
          "Take-Two Interactive",
          "Activision",
          "Activision",
          "Activision",
          "Activision",
          "Microsoft Game Studios",
          "Microsoft Game Studios",
          "Microsoft Game Studios",
          "Microsoft Game Studios",
          "Sony Computer Entertainment",
          "Sony Computer Entertainment",
          "Sony Computer Entertainment",
          "Sony Computer Entertainment",
          "Atari",
          "Atari",
          "Atari",
          "Atari",
          "Bethesda Softworks",
          "Bethesda Softworks",
          "Bethesda Softworks",
          "Bethesda Softworks",
          "Ubisoft",
          "Ubisoft",
          "Ubisoft",
          "Ubisoft",
          "Electronic Arts",
          "Electronic Arts",
          "Electronic Arts",
          "Electronic Arts",
          "SquareSoft",
          "SquareSoft",
          "SquareSoft",
          "SquareSoft",
          "Sega",
          "Sega",
          "Sega",
          "Sega",
          "GT Interactive",
          "GT Interactive",
          "GT Interactive",
          "GT Interactive",
          "505 Games",
          "505 Games",
          "505 Games",
          "505 Games",
          "Konami Digital Entertainment",
          "Konami Digital Entertainment",
          "Konami Digital Entertainment",
          "Konami Digital Entertainment",
          "Sony Computer Entertainment Europe",
          "Sony Computer Entertainment Europe",
          "Sony Computer Entertainment Europe",
          "Sony Computer Entertainment Europe",
          "LucasArts",
          "LucasArts",
          "LucasArts",
          "LucasArts",
          "Virgin Interactive",
          "Virgin Interactive",
          "Virgin Interactive",
          "Virgin Interactive",
          "Capcom",
          "Capcom",
          "Capcom",
          "Capcom",
          "Warner Bros. Interactive Entertainment",
          "Warner Bros. Interactive Entertainment",
          "Warner Bros. Interactive Entertainment",
          "Warner Bros. Interactive Entertainment",
          "Square Enix",
          "Square Enix",
          "Square Enix",
          "Square Enix",
          "Universal Interactive",
          "Universal Interactive",
          "Universal Interactive",
          "Universal Interactive",
          "Eidos Interactive",
          "Eidos Interactive",
          "Eidos Interactive",
          "Eidos Interactive",
          "RedOctane",
          "RedOctane",
          "RedOctane",
          "RedOctane"
         ],
         "categoryorder": "array",
         "domain": [
          0,
          1
         ],
         "tickfont": {
          "size": 15
         },
         "title": {
          "font": {
           "size": 15
          },
          "text": "Publisher"
         }
        },
        "yaxis": {
         "anchor": "x",
         "domain": [
          0,
          1
         ],
         "tickfont": {
          "size": 15
         },
         "title": {
          "font": {
           "size": 15
          },
          "text": "Sales (%)"
         }
        }
       }
      },
      "text/html": [
       "<div>                            <div id=\"9c14c642-0458-44a6-8fc1-9b582b6a45c4\" class=\"plotly-graph-div\" style=\"height:800px; width:800px;\"></div>            <script type=\"text/javascript\">                require([\"plotly\"], function(Plotly) {                    window.PLOTLYENV=window.PLOTLYENV || {};                                    if (document.getElementById(\"9c14c642-0458-44a6-8fc1-9b582b6a45c4\")) {                    Plotly.newPlot(                        \"9c14c642-0458-44a6-8fc1-9b582b6a45c4\",                        [{\"alignmentgroup\":\"True\",\"hovertemplate\":\"Column Name=NA_Sales\\u003cbr\\u003epublisher=%{x}\\u003cbr\\u003esales=%{y}\\u003cextra\\u003e\\u003c\\u002fextra\\u003e\",\"legendgroup\":\"NA_Sales\",\"marker\":{\"color\":\"rgb(158, 185, 243)\",\"pattern\":{\"shape\":\"\"},\"line\":{\"color\":\"rgba(0,0,0,0)\",\"width\":0}},\"name\":\"NA_Sales\",\"offsetgroup\":\"NA_Sales\",\"orientation\":\"v\",\"showlegend\":true,\"textposition\":\"outside\",\"x\":[\"Nintendo\",\"Take-Two Interactive\",\"Activision\",\"Microsoft Game Studios\",\"Sony Computer Entertainment\",\"Atari\",\"Bethesda Softworks\",\"Ubisoft\",\"Electronic Arts\",\"SquareSoft\",\"Sega\",\"GT Interactive\",\"505 Games\",\"Konami Digital Entertainment\",\"Sony Computer Entertainment Europe\",\"LucasArts\",\"Virgin Interactive\",\"Capcom\",\"Warner Bros. Interactive Entertainment\",\"Square Enix\",\"Universal Interactive\",\"Eidos Interactive\",\"RedOctane\"],\"xaxis\":\"x\",\"y\":[47.64980530385517,46.33169129720854,50.8524369100366,66.93297115922346,40.55335409000849,93.21382842509603,44.94633273703042,55.07642799678197,30.272496276176287,29.6127562642369,45.23685580426861,49.680511182108624,52.91300877893056,45.610160132523475,40.301003344481614,62.88659793814433,32.302405498281786,28.959810874704495,48.91304347826087,25.83182093163944,38.191881918819185,43.89312977099236,74.4140625],\"yaxis\":\"y\",\"type\":\"bar\"},{\"alignmentgroup\":\"True\",\"hovertemplate\":\"Column Name=EU_Sales\\u003cbr\\u003epublisher=%{x}\\u003cbr\\u003esales=%{y}\\u003cextra\\u003e\\u003c\\u002fextra\\u003e\",\"legendgroup\":\"EU_Sales\",\"marker\":{\"color\":\"rgb(254, 136, 177)\",\"pattern\":{\"shape\":\"\"},\"line\":{\"color\":\"rgba(0,0,0,0)\",\"width\":0}},\"name\":\"EU_Sales\",\"offsetgroup\":\"EU_Sales\",\"orientation\":\"v\",\"showlegend\":true,\"textposition\":\"outside\",\"x\":[\"Nintendo\",\"Take-Two Interactive\",\"Activision\",\"Microsoft Game Studios\",\"Sony Computer Entertainment\",\"Atari\",\"Bethesda Softworks\",\"Ubisoft\",\"Electronic Arts\",\"SquareSoft\",\"Sega\",\"GT Interactive\",\"505 Games\",\"Konami Digital Entertainment\",\"Sony Computer Entertainment Europe\",\"LucasArts\",\"Virgin Interactive\",\"Capcom\",\"Warner Bros. Interactive Entertainment\",\"Square Enix\",\"Universal Interactive\",\"Eidos Interactive\",\"RedOctane\"],\"xaxis\":\"x\",\"y\":[26.260911288685477,32.24302134646962,35.503756501637454,24.81425261644164,30.427398811208604,5.7618437900128034,38.998211091234346,33.32260659694288,50.6001927626391,18.906605922551254,39.45861530452889,44.72843450479233,36.552274541101355,30.811706239646607,38.12709030100335,28.006872852233673,25.257731958762893,16.725768321513,34.60144927536232,12.03871748336358,42.25092250922509,46.94656488549618,12.3046875],\"yaxis\":\"y\",\"type\":\"bar\"},{\"alignmentgroup\":\"True\",\"hovertemplate\":\"Column Name=JP_Sales\\u003cbr\\u003epublisher=%{x}\\u003cbr\\u003esales=%{y}\\u003cextra\\u003e\\u003c\\u002fextra\\u003e\",\"legendgroup\":\"JP_Sales\",\"marker\":{\"color\":\"rgb(201, 219, 116)\",\"pattern\":{\"shape\":\"\"},\"line\":{\"color\":\"rgba(0,0,0,0)\",\"width\":0}},\"name\":\"JP_Sales\",\"offsetgroup\":\"JP_Sales\",\"orientation\":\"v\",\"showlegend\":true,\"textposition\":\"outside\",\"x\":[\"Nintendo\",\"Take-Two Interactive\",\"Activision\",\"Microsoft Game Studios\",\"Sony Computer Entertainment\",\"Atari\",\"Bethesda Softworks\",\"Ubisoft\",\"Electronic Arts\",\"SquareSoft\",\"Sega\",\"GT Interactive\",\"505 Games\",\"Konami Digital Entertainment\",\"Sony Computer Entertainment Europe\",\"LucasArts\",\"Virgin Interactive\",\"Capcom\",\"Warner Bros. Interactive Entertainment\",\"Square Enix\",\"Universal Interactive\",\"Eidos Interactive\",\"RedOctane\"],\"xaxis\":\"x\",\"y\":[20.038939228966356,2.502463054187192,1.8734347909843962,0.8628265558839979,15.928389470704781,0.0,2.638640429338104,0.9010458567980693,3.259440988346622,48.67122247532271,6.559083810515356,0.31948881789137384,0.5586592178770949,13.694091662065158,4.68227424749164,0.0,34.70790378006873,47.75413711583924,1.9927536231884055,47.247428917120395,4.428044280442804,3.816793893129771,0.0],\"yaxis\":\"y\",\"type\":\"bar\"},{\"alignmentgroup\":\"True\",\"hovertemplate\":\"Column Name=Other_Sales\\u003cbr\\u003epublisher=%{x}\\u003cbr\\u003esales=%{y}\\u003cextra\\u003e\\u003c\\u002fextra\\u003e\",\"legendgroup\":\"Other_Sales\",\"marker\":{\"color\":\"rgb(139, 224, 164)\",\"pattern\":{\"shape\":\"\"},\"line\":{\"color\":\"rgba(0,0,0,0)\",\"width\":0}},\"name\":\"Other_Sales\",\"offsetgroup\":\"Other_Sales\",\"orientation\":\"v\",\"showlegend\":true,\"textposition\":\"outside\",\"x\":[\"Nintendo\",\"Take-Two Interactive\",\"Activision\",\"Microsoft Game Studios\",\"Sony Computer Entertainment\",\"Atari\",\"Bethesda Softworks\",\"Ubisoft\",\"Electronic Arts\",\"SquareSoft\",\"Sega\",\"GT Interactive\",\"505 Games\",\"Konami Digital Entertainment\",\"Sony Computer Entertainment Europe\",\"LucasArts\",\"Virgin Interactive\",\"Capcom\",\"Warner Bros. Interactive Entertainment\",\"Square Enix\",\"Universal Interactive\",\"Eidos Interactive\",\"RedOctane\"],\"xaxis\":\"x\",\"y\":[6.050344178492996,18.92282430213465,11.770371797341554,7.389949668450907,13.09085762807812,1.0243277848911652,13.416815742397139,10.699919549477073,15.867869972837989,2.809415337889142,8.74544508068714,5.2715654952076685,9.976057462090981,9.884041965764771,16.889632107023413,9.106529209621993,7.7319587628866,6.560283687943262,14.492753623188406,14.882032667876588,15.129151291512915,5.34351145038168,13.28125],\"yaxis\":\"y\",\"type\":\"bar\"}],                        {\"template\":{\"data\":{\"histogram2dcontour\":[{\"type\":\"histogram2dcontour\",\"colorbar\":{\"outlinewidth\":0,\"ticks\":\"\"},\"colorscale\":[[0.0,\"#0d0887\"],[0.1111111111111111,\"#46039f\"],[0.2222222222222222,\"#7201a8\"],[0.3333333333333333,\"#9c179e\"],[0.4444444444444444,\"#bd3786\"],[0.5555555555555556,\"#d8576b\"],[0.6666666666666666,\"#ed7953\"],[0.7777777777777778,\"#fb9f3a\"],[0.8888888888888888,\"#fdca26\"],[1.0,\"#f0f921\"]]}],\"choropleth\":[{\"type\":\"choropleth\",\"colorbar\":{\"outlinewidth\":0,\"ticks\":\"\"}}],\"histogram2d\":[{\"type\":\"histogram2d\",\"colorbar\":{\"outlinewidth\":0,\"ticks\":\"\"},\"colorscale\":[[0.0,\"#0d0887\"],[0.1111111111111111,\"#46039f\"],[0.2222222222222222,\"#7201a8\"],[0.3333333333333333,\"#9c179e\"],[0.4444444444444444,\"#bd3786\"],[0.5555555555555556,\"#d8576b\"],[0.6666666666666666,\"#ed7953\"],[0.7777777777777778,\"#fb9f3a\"],[0.8888888888888888,\"#fdca26\"],[1.0,\"#f0f921\"]]}],\"heatmap\":[{\"type\":\"heatmap\",\"colorbar\":{\"outlinewidth\":0,\"ticks\":\"\"},\"colorscale\":[[0.0,\"#0d0887\"],[0.1111111111111111,\"#46039f\"],[0.2222222222222222,\"#7201a8\"],[0.3333333333333333,\"#9c179e\"],[0.4444444444444444,\"#bd3786\"],[0.5555555555555556,\"#d8576b\"],[0.6666666666666666,\"#ed7953\"],[0.7777777777777778,\"#fb9f3a\"],[0.8888888888888888,\"#fdca26\"],[1.0,\"#f0f921\"]]}],\"heatmapgl\":[{\"type\":\"heatmapgl\",\"colorbar\":{\"outlinewidth\":0,\"ticks\":\"\"},\"colorscale\":[[0.0,\"#0d0887\"],[0.1111111111111111,\"#46039f\"],[0.2222222222222222,\"#7201a8\"],[0.3333333333333333,\"#9c179e\"],[0.4444444444444444,\"#bd3786\"],[0.5555555555555556,\"#d8576b\"],[0.6666666666666666,\"#ed7953\"],[0.7777777777777778,\"#fb9f3a\"],[0.8888888888888888,\"#fdca26\"],[1.0,\"#f0f921\"]]}],\"contourcarpet\":[{\"type\":\"contourcarpet\",\"colorbar\":{\"outlinewidth\":0,\"ticks\":\"\"}}],\"contour\":[{\"type\":\"contour\",\"colorbar\":{\"outlinewidth\":0,\"ticks\":\"\"},\"colorscale\":[[0.0,\"#0d0887\"],[0.1111111111111111,\"#46039f\"],[0.2222222222222222,\"#7201a8\"],[0.3333333333333333,\"#9c179e\"],[0.4444444444444444,\"#bd3786\"],[0.5555555555555556,\"#d8576b\"],[0.6666666666666666,\"#ed7953\"],[0.7777777777777778,\"#fb9f3a\"],[0.8888888888888888,\"#fdca26\"],[1.0,\"#f0f921\"]]}],\"surface\":[{\"type\":\"surface\",\"colorbar\":{\"outlinewidth\":0,\"ticks\":\"\"},\"colorscale\":[[0.0,\"#0d0887\"],[0.1111111111111111,\"#46039f\"],[0.2222222222222222,\"#7201a8\"],[0.3333333333333333,\"#9c179e\"],[0.4444444444444444,\"#bd3786\"],[0.5555555555555556,\"#d8576b\"],[0.6666666666666666,\"#ed7953\"],[0.7777777777777778,\"#fb9f3a\"],[0.8888888888888888,\"#fdca26\"],[1.0,\"#f0f921\"]]}],\"mesh3d\":[{\"type\":\"mesh3d\",\"colorbar\":{\"outlinewidth\":0,\"ticks\":\"\"}}],\"scatter\":[{\"fillpattern\":{\"fillmode\":\"overlay\",\"size\":10,\"solidity\":0.2},\"type\":\"scatter\"}],\"parcoords\":[{\"type\":\"parcoords\",\"line\":{\"colorbar\":{\"outlinewidth\":0,\"ticks\":\"\"}}}],\"scatterpolargl\":[{\"type\":\"scatterpolargl\",\"marker\":{\"colorbar\":{\"outlinewidth\":0,\"ticks\":\"\"}}}],\"bar\":[{\"error_x\":{\"color\":\"#2a3f5f\"},\"error_y\":{\"color\":\"#2a3f5f\"},\"marker\":{\"line\":{\"color\":\"#E5ECF6\",\"width\":0.5},\"pattern\":{\"fillmode\":\"overlay\",\"size\":10,\"solidity\":0.2}},\"type\":\"bar\"}],\"scattergeo\":[{\"type\":\"scattergeo\",\"marker\":{\"colorbar\":{\"outlinewidth\":0,\"ticks\":\"\"}}}],\"scatterpolar\":[{\"type\":\"scatterpolar\",\"marker\":{\"colorbar\":{\"outlinewidth\":0,\"ticks\":\"\"}}}],\"histogram\":[{\"marker\":{\"pattern\":{\"fillmode\":\"overlay\",\"size\":10,\"solidity\":0.2}},\"type\":\"histogram\"}],\"scattergl\":[{\"type\":\"scattergl\",\"marker\":{\"colorbar\":{\"outlinewidth\":0,\"ticks\":\"\"}}}],\"scatter3d\":[{\"type\":\"scatter3d\",\"line\":{\"colorbar\":{\"outlinewidth\":0,\"ticks\":\"\"}},\"marker\":{\"colorbar\":{\"outlinewidth\":0,\"ticks\":\"\"}}}],\"scattermapbox\":[{\"type\":\"scattermapbox\",\"marker\":{\"colorbar\":{\"outlinewidth\":0,\"ticks\":\"\"}}}],\"scatterternary\":[{\"type\":\"scatterternary\",\"marker\":{\"colorbar\":{\"outlinewidth\":0,\"ticks\":\"\"}}}],\"scattercarpet\":[{\"type\":\"scattercarpet\",\"marker\":{\"colorbar\":{\"outlinewidth\":0,\"ticks\":\"\"}}}],\"carpet\":[{\"aaxis\":{\"endlinecolor\":\"#2a3f5f\",\"gridcolor\":\"white\",\"linecolor\":\"white\",\"minorgridcolor\":\"white\",\"startlinecolor\":\"#2a3f5f\"},\"baxis\":{\"endlinecolor\":\"#2a3f5f\",\"gridcolor\":\"white\",\"linecolor\":\"white\",\"minorgridcolor\":\"white\",\"startlinecolor\":\"#2a3f5f\"},\"type\":\"carpet\"}],\"table\":[{\"cells\":{\"fill\":{\"color\":\"#EBF0F8\"},\"line\":{\"color\":\"white\"}},\"header\":{\"fill\":{\"color\":\"#C8D4E3\"},\"line\":{\"color\":\"white\"}},\"type\":\"table\"}],\"barpolar\":[{\"marker\":{\"line\":{\"color\":\"#E5ECF6\",\"width\":0.5},\"pattern\":{\"fillmode\":\"overlay\",\"size\":10,\"solidity\":0.2}},\"type\":\"barpolar\"}],\"pie\":[{\"automargin\":true,\"type\":\"pie\"}]},\"layout\":{\"autotypenumbers\":\"strict\",\"colorway\":[\"#636efa\",\"#EF553B\",\"#00cc96\",\"#ab63fa\",\"#FFA15A\",\"#19d3f3\",\"#FF6692\",\"#B6E880\",\"#FF97FF\",\"#FECB52\"],\"font\":{\"color\":\"#2a3f5f\"},\"hovermode\":\"closest\",\"hoverlabel\":{\"align\":\"left\"},\"paper_bgcolor\":\"white\",\"plot_bgcolor\":\"#E5ECF6\",\"polar\":{\"bgcolor\":\"#E5ECF6\",\"angularaxis\":{\"gridcolor\":\"white\",\"linecolor\":\"white\",\"ticks\":\"\"},\"radialaxis\":{\"gridcolor\":\"white\",\"linecolor\":\"white\",\"ticks\":\"\"}},\"ternary\":{\"bgcolor\":\"#E5ECF6\",\"aaxis\":{\"gridcolor\":\"white\",\"linecolor\":\"white\",\"ticks\":\"\"},\"baxis\":{\"gridcolor\":\"white\",\"linecolor\":\"white\",\"ticks\":\"\"},\"caxis\":{\"gridcolor\":\"white\",\"linecolor\":\"white\",\"ticks\":\"\"}},\"coloraxis\":{\"colorbar\":{\"outlinewidth\":0,\"ticks\":\"\"}},\"colorscale\":{\"sequential\":[[0.0,\"#0d0887\"],[0.1111111111111111,\"#46039f\"],[0.2222222222222222,\"#7201a8\"],[0.3333333333333333,\"#9c179e\"],[0.4444444444444444,\"#bd3786\"],[0.5555555555555556,\"#d8576b\"],[0.6666666666666666,\"#ed7953\"],[0.7777777777777778,\"#fb9f3a\"],[0.8888888888888888,\"#fdca26\"],[1.0,\"#f0f921\"]],\"sequentialminus\":[[0.0,\"#0d0887\"],[0.1111111111111111,\"#46039f\"],[0.2222222222222222,\"#7201a8\"],[0.3333333333333333,\"#9c179e\"],[0.4444444444444444,\"#bd3786\"],[0.5555555555555556,\"#d8576b\"],[0.6666666666666666,\"#ed7953\"],[0.7777777777777778,\"#fb9f3a\"],[0.8888888888888888,\"#fdca26\"],[1.0,\"#f0f921\"]],\"diverging\":[[0,\"#8e0152\"],[0.1,\"#c51b7d\"],[0.2,\"#de77ae\"],[0.3,\"#f1b6da\"],[0.4,\"#fde0ef\"],[0.5,\"#f7f7f7\"],[0.6,\"#e6f5d0\"],[0.7,\"#b8e186\"],[0.8,\"#7fbc41\"],[0.9,\"#4d9221\"],[1,\"#276419\"]]},\"xaxis\":{\"gridcolor\":\"white\",\"linecolor\":\"white\",\"ticks\":\"\",\"title\":{\"standoff\":15},\"zerolinecolor\":\"white\",\"automargin\":true,\"zerolinewidth\":2},\"yaxis\":{\"gridcolor\":\"white\",\"linecolor\":\"white\",\"ticks\":\"\",\"title\":{\"standoff\":15},\"zerolinecolor\":\"white\",\"automargin\":true,\"zerolinewidth\":2},\"scene\":{\"xaxis\":{\"backgroundcolor\":\"#E5ECF6\",\"gridcolor\":\"white\",\"linecolor\":\"white\",\"showbackground\":true,\"ticks\":\"\",\"zerolinecolor\":\"white\",\"gridwidth\":2},\"yaxis\":{\"backgroundcolor\":\"#E5ECF6\",\"gridcolor\":\"white\",\"linecolor\":\"white\",\"showbackground\":true,\"ticks\":\"\",\"zerolinecolor\":\"white\",\"gridwidth\":2},\"zaxis\":{\"backgroundcolor\":\"#E5ECF6\",\"gridcolor\":\"white\",\"linecolor\":\"white\",\"showbackground\":true,\"ticks\":\"\",\"zerolinecolor\":\"white\",\"gridwidth\":2}},\"shapedefaults\":{\"line\":{\"color\":\"#2a3f5f\"}},\"annotationdefaults\":{\"arrowcolor\":\"#2a3f5f\",\"arrowhead\":0,\"arrowwidth\":1},\"geo\":{\"bgcolor\":\"white\",\"landcolor\":\"#E5ECF6\",\"subunitcolor\":\"white\",\"showland\":true,\"showlakes\":true,\"lakecolor\":\"white\"},\"title\":{\"x\":0.05},\"mapbox\":{\"style\":\"light\"}}},\"xaxis\":{\"anchor\":\"y\",\"domain\":[0.0,1.0],\"title\":{\"text\":\"Publisher\",\"font\":{\"size\":15}},\"categoryorder\":\"array\",\"categoryarray\":[\"Nintendo\",\"Nintendo\",\"Nintendo\",\"Nintendo\",\"Take-Two Interactive\",\"Take-Two Interactive\",\"Take-Two Interactive\",\"Take-Two Interactive\",\"Activision\",\"Activision\",\"Activision\",\"Activision\",\"Microsoft Game Studios\",\"Microsoft Game Studios\",\"Microsoft Game Studios\",\"Microsoft Game Studios\",\"Sony Computer Entertainment\",\"Sony Computer Entertainment\",\"Sony Computer Entertainment\",\"Sony Computer Entertainment\",\"Atari\",\"Atari\",\"Atari\",\"Atari\",\"Bethesda Softworks\",\"Bethesda Softworks\",\"Bethesda Softworks\",\"Bethesda Softworks\",\"Ubisoft\",\"Ubisoft\",\"Ubisoft\",\"Ubisoft\",\"Electronic Arts\",\"Electronic Arts\",\"Electronic Arts\",\"Electronic Arts\",\"SquareSoft\",\"SquareSoft\",\"SquareSoft\",\"SquareSoft\",\"Sega\",\"Sega\",\"Sega\",\"Sega\",\"GT Interactive\",\"GT Interactive\",\"GT Interactive\",\"GT Interactive\",\"505 Games\",\"505 Games\",\"505 Games\",\"505 Games\",\"Konami Digital Entertainment\",\"Konami Digital Entertainment\",\"Konami Digital Entertainment\",\"Konami Digital Entertainment\",\"Sony Computer Entertainment Europe\",\"Sony Computer Entertainment Europe\",\"Sony Computer Entertainment Europe\",\"Sony Computer Entertainment Europe\",\"LucasArts\",\"LucasArts\",\"LucasArts\",\"LucasArts\",\"Virgin Interactive\",\"Virgin Interactive\",\"Virgin Interactive\",\"Virgin Interactive\",\"Capcom\",\"Capcom\",\"Capcom\",\"Capcom\",\"Warner Bros. Interactive Entertainment\",\"Warner Bros. Interactive Entertainment\",\"Warner Bros. Interactive Entertainment\",\"Warner Bros. Interactive Entertainment\",\"Square Enix\",\"Square Enix\",\"Square Enix\",\"Square Enix\",\"Universal Interactive\",\"Universal Interactive\",\"Universal Interactive\",\"Universal Interactive\",\"Eidos Interactive\",\"Eidos Interactive\",\"Eidos Interactive\",\"Eidos Interactive\",\"RedOctane\",\"RedOctane\",\"RedOctane\",\"RedOctane\"],\"tickfont\":{\"size\":15}},\"yaxis\":{\"anchor\":\"x\",\"domain\":[0.0,1.0],\"title\":{\"text\":\"Sales (%)\",\"font\":{\"size\":15}},\"tickfont\":{\"size\":15}},\"legend\":{\"title\":{\"text\":\"\"},\"tracegroupgap\":0,\"font\":{\"size\":15},\"itemclick\":false,\"itemdoubleclick\":false},\"margin\":{\"t\":60},\"barmode\":\"relative\",\"title\":{\"text\":\"Interactive Stacked Barplot\"},\"width\":800,\"height\":800},                        {\"responsive\": true}                    ).then(function(){\n",
       "                            \n",
       "var gd = document.getElementById('9c14c642-0458-44a6-8fc1-9b582b6a45c4');\n",
       "var x = new MutationObserver(function (mutations, observer) {{\n",
       "        var display = window.getComputedStyle(gd).display;\n",
       "        if (!display || display === 'none') {{\n",
       "            console.log([gd, 'removed!']);\n",
       "            Plotly.purge(gd);\n",
       "            observer.disconnect();\n",
       "        }}\n",
       "}});\n",
       "\n",
       "// Listen for the removal of the full notebook cells\n",
       "var notebookContainer = gd.closest('#notebook-container');\n",
       "if (notebookContainer) {{\n",
       "    x.observe(notebookContainer, {childList: true});\n",
       "}}\n",
       "\n",
       "// Listen for the clearing of the current output cell\n",
       "var outputEl = gd.closest('.output');\n",
       "if (outputEl) {{\n",
       "    x.observe(outputEl, {childList: true});\n",
       "}}\n",
       "\n",
       "                        })                };                });            </script>        </div>"
      ]
     },
     "metadata": {},
     "output_type": "display_data"
    },
    {
     "data": {
      "text/plain": [
       "'https://plotly.com/~kubrad/21/'"
      ]
     },
     "execution_count": 101,
     "metadata": {},
     "output_type": "execute_result"
    }
   ],
   "source": [
    "#Stacked barplot\n",
    "import chart_studio.plotly as py\n",
    "palette = px.colors.qualitative.Pastel[5:10]\n",
    "\n",
    "fig = px.bar(df_long, x='publisher', y='sales', color='Column Name', color_discrete_sequence=palette)\n",
    "fig.update_traces(textposition='outside', marker=dict(line=dict(color='rgba(0,0,0,0)', width=0)))\n",
    "\n",
    "fig.update_layout(xaxis={'categoryorder': 'array', 'categoryarray': df_long['publisher']})\n",
    "\n",
    "fig.update_xaxes(title='Publisher', title_font=dict(size=15), tickfont=dict(size=15))\n",
    "fig.update_yaxes(title='Sales (%)', title_font=dict(size=15), tickfont=dict(size=15))\n",
    "\n",
    "fig.update_layout(\n",
    "    title='Interactive Stacked Barplot',\n",
    "    width=800,  \n",
    "    height=800,  \n",
    "    legend_title='',  \n",
    "    legend_font=dict(size=15),  \n",
    "    legend_itemclick=False,  \n",
    "    legend_itemdoubleclick=False,)\n",
    "\n",
    "fig.show()\n",
    "chart_studio.tools.set_credentials_file(username=username, api_key=api_key)\n",
    "py.plot(fig, filename = 'Stacked Barplot', auto_open=True)"
   ]
  },
  {
   "cell_type": "code",
   "execution_count": null,
   "id": "8713b0b1",
   "metadata": {},
   "outputs": [],
   "source": []
  },
  {
   "cell_type": "code",
   "execution_count": null,
   "id": "c5a6bd70",
   "metadata": {},
   "outputs": [],
   "source": []
  },
  {
   "cell_type": "code",
   "execution_count": null,
   "id": "80f10c6a",
   "metadata": {},
   "outputs": [],
   "source": []
  },
  {
   "cell_type": "code",
   "execution_count": null,
   "id": "6d7829f6",
   "metadata": {},
   "outputs": [],
   "source": []
  },
  {
   "cell_type": "code",
   "execution_count": null,
   "id": "ea1ec555",
   "metadata": {},
   "outputs": [],
   "source": []
  },
  {
   "cell_type": "code",
   "execution_count": null,
   "id": "032f6dbc",
   "metadata": {},
   "outputs": [],
   "source": []
  }
 ],
 "metadata": {
  "kernelspec": {
   "display_name": "Python 3 (ipykernel)",
   "language": "python",
   "name": "python3"
  },
  "language_info": {
   "codemirror_mode": {
    "name": "ipython",
    "version": 3
   },
   "file_extension": ".py",
   "mimetype": "text/x-python",
   "name": "python",
   "nbconvert_exporter": "python",
   "pygments_lexer": "ipython3",
   "version": "3.9.13"
  }
 },
 "nbformat": 4,
 "nbformat_minor": 5
}
